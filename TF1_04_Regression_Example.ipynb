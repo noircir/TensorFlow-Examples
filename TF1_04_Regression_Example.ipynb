{
  "nbformat": 4,
  "nbformat_minor": 0,
  "metadata": {
    "colab": {
      "name": "TF1_04_Regression_Example.ipynb",
      "provenance": [],
      "include_colab_link": true
    },
    "kernelspec": {
      "name": "python3",
      "display_name": "Python 3"
    }
  },
  "cells": [
    {
      "cell_type": "markdown",
      "metadata": {
        "id": "view-in-github",
        "colab_type": "text"
      },
      "source": [
        "<a href=\"https://colab.research.google.com/github/noircir/TensorFlow-Examples/blob/master/TF1_04_Regression_Example.ipynb\" target=\"_parent\"><img src=\"https://colab.research.google.com/assets/colab-badge.svg\" alt=\"Open In Colab\"/></a>"
      ]
    },
    {
      "cell_type": "markdown",
      "metadata": {
        "id": "Fdq9dQG7Gqj7",
        "colab_type": "text"
      },
      "source": [
        "## Creating Data"
      ]
    },
    {
      "cell_type": "code",
      "metadata": {
        "id": "3DURVA28Gh0T",
        "colab_type": "code",
        "colab": {}
      },
      "source": [
        "import numpy as np\n",
        "import pandas as pd\n",
        "import matplotlib.pyplot as plt\n",
        "%matplotlib inline"
      ],
      "execution_count": 0,
      "outputs": []
    },
    {
      "cell_type": "code",
      "metadata": {
        "id": "8kEkGsIhG2C7",
        "colab_type": "code",
        "colab": {}
      },
      "source": [
        "import tensorflow as tf"
      ],
      "execution_count": 0,
      "outputs": []
    },
    {
      "cell_type": "code",
      "metadata": {
        "id": "AzvsVpnNGwCE",
        "colab_type": "code",
        "colab": {
          "base_uri": "https://localhost:8080/",
          "height": 51
        },
        "outputId": "16740961-9e2c-49e5-921f-0446f0822f6a"
      },
      "source": [
        "# 1 Million Points\n",
        "x_data = np.linspace(0.0,10.0,1000000)\n",
        "x_data"
      ],
      "execution_count": 24,
      "outputs": [
        {
          "output_type": "execute_result",
          "data": {
            "text/plain": [
              "array([0.000000e+00, 1.000001e-05, 2.000002e-05, ..., 9.999980e+00,\n",
              "       9.999990e+00, 1.000000e+01])"
            ]
          },
          "metadata": {
            "tags": []
          },
          "execution_count": 24
        }
      ]
    },
    {
      "cell_type": "code",
      "metadata": {
        "id": "xcS3AdyhGyTo",
        "colab_type": "code",
        "colab": {
          "base_uri": "https://localhost:8080/",
          "height": 51
        },
        "outputId": "9ee88454-f6d0-4ddb-f36f-c95d92644ab7"
      },
      "source": [
        "noise = np.random.randn(len(x_data))\n",
        "noise"
      ],
      "execution_count": 25,
      "outputs": [
        {
          "output_type": "execute_result",
          "data": {
            "text/plain": [
              "array([ 1.18084663, -0.84320752, -0.84591664, ...,  0.53329064,\n",
              "       -1.23202101,  2.27905132])"
            ]
          },
          "metadata": {
            "tags": []
          },
          "execution_count": 25
        }
      ]
    },
    {
      "cell_type": "code",
      "metadata": {
        "id": "ODojgx2EHHZv",
        "colab_type": "code",
        "colab": {}
      },
      "source": [
        "# y = mx + b = 0.5x + 5 + noise\n",
        "\n",
        "y_true = (0.5* x_data) + 5 + noise  "
      ],
      "execution_count": 0,
      "outputs": []
    },
    {
      "cell_type": "code",
      "metadata": {
        "id": "l2kb-kfYIMsV",
        "colab_type": "code",
        "colab": {
          "base_uri": "https://localhost:8080/",
          "height": 204
        },
        "outputId": "8bcbf9eb-bf71-4d87-d78a-fffd5a60d2b2"
      },
      "source": [
        "my_data = pd.concat([pd.DataFrame(data=x_data,columns=['X Data']),pd.DataFrame(data=y_true,columns=['Y'])],axis=1)\n",
        "my_data.head()"
      ],
      "execution_count": 27,
      "outputs": [
        {
          "output_type": "execute_result",
          "data": {
            "text/html": [
              "<div>\n",
              "<style scoped>\n",
              "    .dataframe tbody tr th:only-of-type {\n",
              "        vertical-align: middle;\n",
              "    }\n",
              "\n",
              "    .dataframe tbody tr th {\n",
              "        vertical-align: top;\n",
              "    }\n",
              "\n",
              "    .dataframe thead th {\n",
              "        text-align: right;\n",
              "    }\n",
              "</style>\n",
              "<table border=\"1\" class=\"dataframe\">\n",
              "  <thead>\n",
              "    <tr style=\"text-align: right;\">\n",
              "      <th></th>\n",
              "      <th>X Data</th>\n",
              "      <th>Y</th>\n",
              "    </tr>\n",
              "  </thead>\n",
              "  <tbody>\n",
              "    <tr>\n",
              "      <th>0</th>\n",
              "      <td>0.00000</td>\n",
              "      <td>6.180847</td>\n",
              "    </tr>\n",
              "    <tr>\n",
              "      <th>1</th>\n",
              "      <td>0.00001</td>\n",
              "      <td>4.156797</td>\n",
              "    </tr>\n",
              "    <tr>\n",
              "      <th>2</th>\n",
              "      <td>0.00002</td>\n",
              "      <td>4.154093</td>\n",
              "    </tr>\n",
              "    <tr>\n",
              "      <th>3</th>\n",
              "      <td>0.00003</td>\n",
              "      <td>6.302463</td>\n",
              "    </tr>\n",
              "    <tr>\n",
              "      <th>4</th>\n",
              "      <td>0.00004</td>\n",
              "      <td>4.015234</td>\n",
              "    </tr>\n",
              "  </tbody>\n",
              "</table>\n",
              "</div>"
            ],
            "text/plain": [
              "    X Data         Y\n",
              "0  0.00000  6.180847\n",
              "1  0.00001  4.156797\n",
              "2  0.00002  4.154093\n",
              "3  0.00003  6.302463\n",
              "4  0.00004  4.015234"
            ]
          },
          "metadata": {
            "tags": []
          },
          "execution_count": 27
        }
      ]
    },
    {
      "cell_type": "code",
      "metadata": {
        "id": "WGcZLNqzLzJs",
        "colab_type": "code",
        "colab": {
          "base_uri": "https://localhost:8080/",
          "height": 279
        },
        "outputId": "36452c67-9187-4623-8609-6b048da8ef7e"
      },
      "source": [
        "# plot of a million points is too much ... Plot a sample\n",
        "my_data.sample(n=250).plot(kind='scatter',x='X Data',y='Y');"
      ],
      "execution_count": 28,
      "outputs": [
        {
          "output_type": "display_data",
          "data": {
            "image/png": "[encoded data removed]",
            "text/plain": [
              "<Figure size 432x288 with 1 Axes>"
            ]
          },
          "metadata": {
            "tags": []
          }
        }
      ]
    },
    {
      "cell_type": "markdown",
      "metadata": {
        "id": "45Q4zTNIPIKQ",
        "colab_type": "text"
      },
      "source": [
        "# TensorFlow\n",
        "## Batch Size\n",
        "\n",
        "We will take the data in batches (1,000,000 points is a lot to pass in at once)"
      ]
    },
    {
      "cell_type": "code",
      "metadata": {
        "id": "7f4jISBLMpVS",
        "colab_type": "code",
        "colab": {}
      },
      "source": [
        "# Random 8 points to grab\n",
        "batch_size = 8"
      ],
      "execution_count": 0,
      "outputs": []
    },
    {
      "cell_type": "code",
      "metadata": {
        "id": "J_L8f0GcPO6P",
        "colab_type": "code",
        "colab": {
          "base_uri": "https://localhost:8080/",
          "height": 34
        },
        "outputId": "5f89fd15-09da-4a94-ee90-bee646117b54"
      },
      "source": [
        "np.random.randn(2)"
      ],
      "execution_count": 30,
      "outputs": [
        {
          "output_type": "execute_result",
          "data": {
            "text/plain": [
              "array([-0.1797644 ,  0.05305113])"
            ]
          },
          "metadata": {
            "tags": []
          },
          "execution_count": 30
        }
      ]
    },
    {
      "cell_type": "markdown",
      "metadata": {
        "id": "FVzqbwGHPd0h",
        "colab_type": "text"
      },
      "source": [
        "### Variables\n",
        "\n",
        "y = mx + b"
      ]
    },
    {
      "cell_type": "code",
      "metadata": {
        "id": "lax407M0PbaC",
        "colab_type": "code",
        "colab": {}
      },
      "source": [
        "m = tf.Variable(1.26)\n",
        "b = tf.Variable(-2.03)"
      ],
      "execution_count": 0,
      "outputs": []
    },
    {
      "cell_type": "markdown",
      "metadata": {
        "id": "IBR5CoZsPyCW",
        "colab_type": "text"
      },
      "source": [
        "### Placeholders"
      ]
    },
    {
      "cell_type": "code",
      "metadata": {
        "id": "IlcuLEZVPtZ0",
        "colab_type": "code",
        "colab": {}
      },
      "source": [
        "x_placeholder = tf.placeholder(tf.float32,[batch_size])\n",
        "y_placeholder = tf.placeholder(tf.float32,[batch_size])"
      ],
      "execution_count": 0,
      "outputs": []
    },
    {
      "cell_type": "markdown",
      "metadata": {
        "id": "l8X-sRYOP8US",
        "colab_type": "text"
      },
      "source": [
        "### Graph"
      ]
    },
    {
      "cell_type": "code",
      "metadata": {
        "id": "z1lqAbHMP5Vs",
        "colab_type": "code",
        "colab": {}
      },
      "source": [
        "y_model = m*x_placeholder + b"
      ],
      "execution_count": 0,
      "outputs": []
    },
    {
      "cell_type": "markdown",
      "metadata": {
        "id": "EUnxPk2-QIML",
        "colab_type": "text"
      },
      "source": [
        "### Loss function\n"
      ]
    },
    {
      "cell_type": "code",
      "metadata": {
        "id": "73zzkDnnQCNN",
        "colab_type": "code",
        "colab": {}
      },
      "source": [
        "# tf.math.square(x) computes square of x element-wise\n",
        "# tf.math.reduce_sum(x, axis=None, keepdims=None, name=None) computes the sum of elements across dimensions of a tensor\n",
        "\n",
        "error = tf.reduce_sum(tf.square(y_placeholder-y_model))"
      ],
      "execution_count": 0,
      "outputs": []
    },
    {
      "cell_type": "markdown",
      "metadata": {
        "id": "O_olYs0vS73e",
        "colab_type": "text"
      },
      "source": [
        "### Optimizer"
      ]
    },
    {
      "cell_type": "code",
      "metadata": {
        "id": "RaNSD1cXQKww",
        "colab_type": "code",
        "colab": {}
      },
      "source": [
        "optimizer = tf.train.GradientDescentOptimizer(learning_rate=0.001)\n",
        "train = optimizer.minimize(error)"
      ],
      "execution_count": 0,
      "outputs": []
    },
    {
      "cell_type": "markdown",
      "metadata": {
        "id": "h33z386CWzcI",
        "colab_type": "text"
      },
      "source": [
        "### Initialize variables"
      ]
    },
    {
      "cell_type": "code",
      "metadata": {
        "id": "DKvQg9QmS-Zz",
        "colab_type": "code",
        "colab": {}
      },
      "source": [
        "init = tf.global_variables_initializer()"
      ],
      "execution_count": 0,
      "outputs": []
    },
    {
      "cell_type": "markdown",
      "metadata": {
        "id": "AImLi1SrW9zA",
        "colab_type": "text"
      },
      "source": [
        "### Session"
      ]
    },
    {
      "cell_type": "code",
      "metadata": {
        "id": "7OeTyOc5W2bb",
        "colab_type": "code",
        "colab": {
          "base_uri": "https://localhost:8080/",
          "height": 187
        },
        "outputId": "77c647aa-1c17-4de9-bb42-df2a09bfd369"
      },
      "source": [
        "with tf.Session() as sess:\n",
        "    \n",
        "    sess.run(init)\n",
        "    \n",
        "    batches = 1000\n",
        "    \n",
        "    for i in range(batches):\n",
        "\n",
        "        # choose 8 random data points from x_data (batch size = 8)\n",
        "        # np.random.randint returns a ndarray of integers\n",
        "\n",
        "        rand_index = np.random.randint(len(x_data),size=batch_size)\n",
        "        if i%100 == 0:\n",
        "          print(\"Random index:\", rand_index)\n",
        "        \n",
        "        feed = {x_placeholder:x_data[rand_index],y_placeholder:y_true[rand_index]}\n",
        "        \n",
        "        sess.run(train,feed_dict=feed)\n",
        "        \n",
        "    model_m, model_b = sess.run([m,b])"
      ],
      "execution_count": 38,
      "outputs": [
        {
          "output_type": "stream",
          "text": [
            "Random index: [975727 964084 950664  15028 730734  51772  77828 695512]\n",
            "Random index: [ 24285  38360 357049 623320  86147 601419 852066 208890]\n",
            "Random index: [652450 780997 548301 568441  31612 259854 983318 422465]\n",
            "Random index: [609352 339529 509026 298722 244388 268927 984447  59737]\n",
            "Random index: [ 24705 885681 921268 364784 367488 911697  80863 986766]\n",
            "Random index: [ 19812 895516 347939 972053 631311 830485 935759 177603]\n",
            "Random index: [427007 970101 281997 471699 699238 172829 825074 363219]\n",
            "Random index: [967759 901869 775571 790805 575182 208931 951800 548447]\n",
            "Random index: [911182 435020 497229  37291 521327 257617  97755 495790]\n",
            "Random index: [281707 120651 130720 160175 197662 314897  92989 542196]\n"
          ],
          "name": "stdout"
        }
      ]
    },
    {
      "cell_type": "code",
      "metadata": {
        "id": "KqKqpKjwmD25",
        "colab_type": "code",
        "colab": {
          "base_uri": "https://localhost:8080/",
          "height": 51
        },
        "outputId": "6665fe8b-7757-46cb-daab-848df8043c95"
      },
      "source": [
        "# The true line was y_true = (0.5* x_data) + 5 + noise  \n",
        "# We started from random m and b: array([-0.1797644 ,  0.05305113])\n",
        "# The predicted line accounts for the noise, as well\n",
        "\n",
        "print(model_m, '\\n', model_b)"
      ],
      "execution_count": 39,
      "outputs": [
        {
          "output_type": "stream",
          "text": [
            "0.54447216 \n",
            " 4.852162\n"
          ],
          "name": "stdout"
        }
      ]
    },
    {
      "cell_type": "code",
      "metadata": {
        "id": "iTfNI97Nmxni",
        "colab_type": "code",
        "colab": {
          "base_uri": "https://localhost:8080/",
          "height": 280
        },
        "outputId": "10fc9589-b052-4378-b8a3-8bf4a45212e0"
      },
      "source": [
        "y_hat = x_data * model_m + model_b\n",
        "\n",
        "my_data.sample(n=250).plot(kind='scatter',x='X Data',y='Y')\n",
        "plt.plot(x_data,y_hat,'r');"
      ],
      "execution_count": 41,
      "outputs": [
        {
          "output_type": "display_data",
          "data": {
            "image/png": "[encoded data removed]",
            "text/plain": [
              "<Figure size 432x288 with 1 Axes>"
            ]
          },
          "metadata": {
            "tags": []
          }
        }
      ]
    },
    {
      "cell_type": "markdown",
      "metadata": {
        "id": "CB2TGH2drGca",
        "colab_type": "text"
      },
      "source": [
        "## tf.estimator API\n",
        "\n",
        "Much simpler API for basic tasks like regression! We'll talk about more abstractions like TF-Slim later on."
      ]
    },
    {
      "cell_type": "code",
      "metadata": {
        "id": "X0HnoVV7q980",
        "colab_type": "code",
        "colab": {}
      },
      "source": [
        "feature_cols = [ tf.feature_column.numeric_column('x',shape=[1]) ]\n",
        "\n",
        "estimator = tf.estimator.LinearRegressor(feature_columns=feature_cols)"
      ],
      "execution_count": 0,
      "outputs": []
    },
    {
      "cell_type": "markdown",
      "metadata": {
        "id": "A_ACpe1TyUFo",
        "colab_type": "text"
      },
      "source": [
        "### Train Test Split"
      ]
    },
    {
      "cell_type": "code",
      "metadata": {
        "id": "SHAi71tnyNHz",
        "colab_type": "code",
        "colab": {}
      },
      "source": [
        "from sklearn.model_selection import train_test_split\n",
        "\n",
        "x_train, x_eval, y_train, y_eval = train_test_split(x_data,y_true,test_size=0.3, random_state = 101)"
      ],
      "execution_count": 0,
      "outputs": []
    },
    {
      "cell_type": "code",
      "metadata": {
        "id": "t0o7bTLlyb1B",
        "colab_type": "code",
        "colab": {
          "base_uri": "https://localhost:8080/",
          "height": 85
        },
        "outputId": "82313e18-dbd6-4873-d8fb-5a58b3726ab4"
      },
      "source": [
        "print(x_train.shape)\n",
        "print(y_train.shape)\n",
        "\n",
        "print(x_eval.shape)\n",
        "print(y_eval.shape)"
      ],
      "execution_count": 44,
      "outputs": [
        {
          "output_type": "stream",
          "text": [
            "(700000,)\n",
            "(700000,)\n",
            "(300000,)\n",
            "(300000,)\n"
          ],
          "name": "stdout"
        }
      ]
    },
    {
      "cell_type": "markdown",
      "metadata": {
        "id": "Wvut9KZnyozh",
        "colab_type": "text"
      },
      "source": [
        "### Set up Estimator Inputs"
      ]
    },
    {
      "cell_type": "code",
      "metadata": {
        "id": "bDWuROJAyfKb",
        "colab_type": "code",
        "colab": {}
      },
      "source": [
        "# acts as feed dictionary and batch size all in one\n",
        "\n",
        "# Can also do .pandas_input_fn\n",
        "input_func = tf.estimator.inputs.numpy_input_fn({'x':x_train},y_train,batch_size=4,num_epochs=None,shuffle=True)\n",
        "\n",
        "train_input_func = tf.estimator.inputs.numpy_input_fn({'x':x_train},y_train,batch_size=4,num_epochs=1000,shuffle=False)\n",
        "\n",
        "\n",
        "eval_input_func = tf.estimator.inputs.numpy_input_fn({'x':x_eval},y_eval,batch_size=4,num_epochs=1000,shuffle=False)\n"
      ],
      "execution_count": 0,
      "outputs": []
    },
    {
      "cell_type": "markdown",
      "metadata": {
        "id": "mJNXTmXY0gZq",
        "colab_type": "text"
      },
      "source": [
        "### Train the Estimator"
      ]
    },
    {
      "cell_type": "code",
      "metadata": {
        "id": "pgji03qr0k2q",
        "colab_type": "code",
        "colab": {}
      },
      "source": [
        "estimator.train(input_fn=input_func,steps=1000)"
      ],
      "execution_count": 0,
      "outputs": []
    },
    {
      "cell_type": "markdown",
      "metadata": {
        "id": "gEi4-7Dv1Hta",
        "colab_type": "text"
      },
      "source": [
        "### Evaluation"
      ]
    },
    {
      "cell_type": "code",
      "metadata": {
        "id": "fcX5drXQ02j_",
        "colab_type": "code",
        "colab": {}
      },
      "source": [
        "train_metrics = estimator.evaluate(input_fn=train_input_func,steps=1000)"
      ],
      "execution_count": 0,
      "outputs": []
    },
    {
      "cell_type": "code",
      "metadata": {
        "id": "rkeNI5XQ1MLX",
        "colab_type": "code",
        "colab": {}
      },
      "source": [
        "eval_metrics = estimator.evaluate(input_fn=eval_input_func,steps=1000)"
      ],
      "execution_count": 0,
      "outputs": []
    },
    {
      "cell_type": "code",
      "metadata": {
        "id": "FLPmfYNA1sRo",
        "colab_type": "code",
        "colab": {
          "base_uri": "https://localhost:8080/",
          "height": 51
        },
        "outputId": "0f147b5e-3f92-48f3-dc51-eddee3b67315"
      },
      "source": [
        "print(\"train metrics: {}\".format(train_metrics))\n",
        "print(\"eval metrics: {}\".format(eval_metrics))"
      ],
      "execution_count": 49,
      "outputs": [
        {
          "output_type": "stream",
          "text": [
            "train metrics: {'average_loss': 1.1449581, 'label/mean': 7.526784, 'loss': 4.5798326, 'prediction/mean': 7.3411107, 'global_step': 1000}\n",
            "eval metrics: {'average_loss': 1.1359198, 'label/mean': 7.464932, 'loss': 4.543679, 'prediction/mean': 7.3001747, 'global_step': 1000}\n"
          ],
          "name": "stdout"
        }
      ]
    },
    {
      "cell_type": "code",
      "metadata": {
        "id": "xb661Eiw1x53",
        "colab_type": "code",
        "colab": {}
      },
      "source": [
        "# a good indicator of overfitting: low loss on training data, high loss on test (eval) data"
      ],
      "execution_count": 0,
      "outputs": []
    },
    {
      "cell_type": "markdown",
      "metadata": {
        "id": "oiyWMngl2K3H",
        "colab_type": "text"
      },
      "source": [
        "### Predictions"
      ]
    },
    {
      "cell_type": "code",
      "metadata": {
        "id": "DQW85VwK2LV1",
        "colab_type": "code",
        "colab": {}
      },
      "source": [
        "input_fn_predict = tf.estimator.inputs.numpy_input_fn({'x':np.linspace(0,10,10)},shuffle=False)"
      ],
      "execution_count": 0,
      "outputs": []
    },
    {
      "cell_type": "code",
      "metadata": {
        "id": "32oh8il22XGx",
        "colab_type": "code",
        "colab": {}
      },
      "source": [
        "list(estimator.predict(input_fn=input_fn_predict))"
      ],
      "execution_count": 0,
      "outputs": []
    },
    {
      "cell_type": "code",
      "metadata": {
        "id": "z-tsD2lp2fPK",
        "colab_type": "code",
        "colab": {}
      },
      "source": [
        "predictions = []   # np.array([])\n",
        "for y_pred in estimator.predict(input_fn=input_fn_predict):\n",
        "    predictions.append(y_pred['predictions'])  # appending a value from an array of dictionaries"
      ],
      "execution_count": 0,
      "outputs": []
    },
    {
      "cell_type": "code",
      "metadata": {
        "id": "A0b5bZ8E25eD",
        "colab_type": "code",
        "colab": {
          "base_uri": "https://localhost:8080/",
          "height": 187
        },
        "outputId": "4c499bce-6056-4ec6-faa5-e3a443f169e3"
      },
      "source": [
        "predictions"
      ],
      "execution_count": 53,
      "outputs": [
        {
          "output_type": "execute_result",
          "data": {
            "text/plain": [
              "[array([4.1880713], dtype=float32),\n",
              " array([4.884578], dtype=float32),\n",
              " array([5.5810847], dtype=float32),\n",
              " array([6.2775917], dtype=float32),\n",
              " array([6.974098], dtype=float32),\n",
              " array([7.6706047], dtype=float32),\n",
              " array([8.367111], dtype=float32),\n",
              " array([9.063619], dtype=float32),\n",
              " array([9.760126], dtype=float32),\n",
              " array([10.456633], dtype=float32)]"
            ]
          },
          "metadata": {
            "tags": []
          },
          "execution_count": 53
        }
      ]
    },
    {
      "cell_type": "code",
      "metadata": {
        "id": "Hw1XnzAj28K2",
        "colab_type": "code",
        "colab": {
          "base_uri": "https://localhost:8080/",
          "height": 279
        },
        "outputId": "753b2b37-2d30-4b55-9641-23d9f666b505"
      },
      "source": [
        "my_data.sample(n=250).plot(kind='scatter',x='X Data',y='Y')\n",
        "plt.plot(np.linspace(0,10,10),predictions,'r*')\n",
        "# the line is the old prediction with graph\n",
        "plt.plot(x_data,y_hat,'r');"
      ],
      "execution_count": 57,
      "outputs": [
        {
          "output_type": "display_data",
          "data": {
            "image/png": "[encoded data removed]",
            "text/plain": [
              "<Figure size 432x288 with 1 Axes>"
            ]
          },
          "metadata": {
            "tags": []
          }
        }
      ]
    },
    {
      "cell_type": "code",
      "metadata": {
        "id": "yg_GhM8Q4EtP",
        "colab_type": "code",
        "colab": {}
      },
      "source": [
        ""
      ],
      "execution_count": 0,
      "outputs": []
    }
  ]
}