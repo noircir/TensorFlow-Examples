{
  "nbformat": 4,
  "nbformat_minor": 0,
  "metadata": {
    "kernelspec": {
      "name": "python3",
      "display_name": "Python 3"
    },
    "language_info": {
      "codemirror_mode": {
        "name": "ipython",
        "version": 3
      },
      "file_extension": ".py",
      "mimetype": "text/x-python",
      "name": "python",
      "nbconvert_exporter": "python",
      "pygments_lexer": "ipython3",
      "version": "3.7.2"
    },
    "colab": {
      "name": "Devoir_2.ipynb",
      "provenance": [],
      "include_colab_link": true
    },
    "accelerator": "GPU"
  },
  "cells": [
    {
      "cell_type": "markdown",
      "metadata": {
        "id": "view-in-github",
        "colab_type": "text"
      },
      "source": [
        "<a href=\"https://colab.research.google.com/github/noircir/TensorFlow-Examples/blob/master/Devoir_2.ipynb\" target=\"_parent\"><img src=\"https://colab.research.google.com/assets/colab-badge.svg\" alt=\"Open In Colab\"/></a>"
      ]
    },
    {
      "cell_type": "markdown",
      "metadata": {
        "id": "52SHQVgtm0Ph",
        "colab_type": "text"
      },
      "source": [
        "# Devoir 2: les réseaux convolutifs\n",
        "\n",
        "L'objectif du présent travail est de vous familiaiser avec les réseaux de neurones convolutifs ainsi que leur architecture dans tensorflow. De plus, il vous permettra d'expérimenter les approches d'augmentation des données qui sont couramment utilisées en apprentissage profond. \n",
        "\n",
        "La tâche en est une de classification: à partir de la base de données CIFAR10, qui peut être instantiée directement à partir de tensorflow, vous devrez concevoir un classifieur qui permet de reconnaître correctement les 10 classes d'objets. Vous devrez vous servir des stratégies d'entraînement suivantes:\n",
        "\n",
        "- apprentissage par curriculum (concevoir une tâche 'facile' et une tâche 'difficile' de sorte à vous servir des représentations cachées apprises lors de la résolution de la tâche facile comme valeurs initiales pour l'apprentissage de la tâche difficile)\n",
        "\n",
        "- Augmentation des données (les fonctions nécessaires sont fournies dans le présent notebook) \n",
        "\n",
        "Bonus:\n",
        "\n",
        "- utilisation du dropout dans les couches convolutives\n",
        "\n",
        "- utilisation du taux d'apprentissage décroissant\n",
        "\n",
        "Bon travail!\n"
      ]
    },
    {
      "cell_type": "markdown",
      "metadata": {
        "id": "64pxeuXVm0Pj",
        "colab_type": "text"
      },
      "source": [
        "## Partie 1: acquisition et visualisation des données"
      ]
    },
    {
      "cell_type": "code",
      "metadata": {
        "id": "OqN-hdxHm0Pk",
        "colab_type": "code",
        "colab": {}
      },
      "source": [
        "# Importation des librairies\n",
        "import numpy as np\n",
        "import matplotlib.pyplot as plt\n",
        "import tensorflow.compat.v1 as tf\n",
        "tf.disable_eager_execution()\n"
      ],
      "execution_count": 0,
      "outputs": []
    },
    {
      "cell_type": "code",
      "metadata": {
        "id": "eq_MygDlm0Pn",
        "colab_type": "code",
        "colab": {}
      },
      "source": [
        "# Importation des donnees\n",
        "(X_train, Y_train), (X_test, Y_test) = tf.keras.datasets.cifar10.load_data()"
      ],
      "execution_count": 0,
      "outputs": []
    },
    {
      "cell_type": "code",
      "metadata": {
        "id": "ipJalsVUm0Pp",
        "colab_type": "code",
        "outputId": "18356458-5207-483f-d513-f6643e571f09",
        "colab": {
          "base_uri": "https://localhost:8080/",
          "height": 51
        }
      },
      "source": [
        "!pip install pillow\n",
        "from PIL import Image"
      ],
      "execution_count": 20,
      "outputs": [
        {
          "output_type": "stream",
          "text": [
            "Requirement already satisfied: pillow in /usr/local/lib/python3.6/dist-packages (4.3.0)\n",
            "Requirement already satisfied: olefile in /usr/local/lib/python3.6/dist-packages (from pillow) (0.46)\n"
          ],
          "name": "stdout"
        }
      ]
    },
    {
      "cell_type": "markdown",
      "metadata": {
        "id": "E5Ba58iPm0Pr",
        "colab_type": "text"
      },
      "source": [
        "## Partie 2: Fonctions de manipulation des données"
      ]
    },
    {
      "cell_type": "markdown",
      "metadata": {
        "id": "4MptQuPQm0Ps",
        "colab_type": "text"
      },
      "source": [
        "### Mise à l'échelle"
      ]
    },
    {
      "cell_type": "code",
      "metadata": {
        "id": "Lf74HPeCm0Ps",
        "colab_type": "code",
        "colab": {}
      },
      "source": [
        "def image_echelle(img, factor):\n",
        "    \n",
        "    # Préparation\n",
        "    largeur, hauteur, canaux = img.shape\n",
        "    max_l = int( largeur * factor )\n",
        "    max_h = int( hauteur * factor )\n",
        "    init_l= np.random.randint( int( largeur * (1 - factor) ) )\n",
        "    init_h= np.random.randint( int( hauteur * (1 - factor) ) )\n",
        "    \n",
        "    # Sélection d'une portion de l'image\n",
        "    n_img = img[init_l : max_l, init_h : max_h, :]\n",
        "    \n",
        "    # Restauration de la taille initiale\n",
        "    IM = Image.fromarray(n_img)\n",
        "    IM = IM.resize( (largeur, hauteur), Image.ANTIALIAS )\n",
        "    \n",
        "    return np.array(IM)\n",
        "    "
      ],
      "execution_count": 0,
      "outputs": []
    },
    {
      "cell_type": "code",
      "metadata": {
        "id": "fURyG1fbm0Pu",
        "colab_type": "code",
        "outputId": "d4ef93f6-e6d7-4d6a-8bb4-ef3536952a2d",
        "colab": {
          "base_uri": "https://localhost:8080/",
          "height": 369
        }
      },
      "source": [
        "print(X_train.shape)\n",
        "global_figure = plt.figure(figsize=(12,6))\n",
        "Ax1 = global_figure.add_subplot(121)\n",
        "Ax1.imshow(X_train[0, :, :, :])\n",
        "Ax2 = global_figure.add_subplot(122)\n",
        "Ax2.imshow( image_echelle(X_train[0, :, :, :], 0.7));"
      ],
      "execution_count": 22,
      "outputs": [
        {
          "output_type": "stream",
          "text": [
            "(50000, 32, 32, 3)\n"
          ],
          "name": "stdout"
        },
        {
          "output_type": "display_data",
          "data": {
            "image/png": "[encoded data removed]",
            "text/plain": [
              "<Figure size 864x432 with 2 Axes>"
            ]
          },
          "metadata": {
            "tags": []
          }
        }
      ]
    },
    {
      "cell_type": "markdown",
      "metadata": {
        "id": "bZDHNWqhm0Pw",
        "colab_type": "text"
      },
      "source": [
        "### Translation"
      ]
    },
    {
      "cell_type": "code",
      "metadata": {
        "id": "DjflDiWFm0Pw",
        "colab_type": "code",
        "colab": {}
      },
      "source": [
        "def image_translation(img, factor):\n",
        "    \n",
        "    # Préparation\n",
        "    a = e = 1\n",
        "    b = d = 0\n",
        "\n",
        "    largeur, hauteur, canaux = img.shape\n",
        "    c= np.random.randint( -int( largeur * factor ), int( largeur * factor ) )\n",
        "    f= np.random.randint( -int( hauteur * factor ), int( hauteur * factor ) )\n",
        "    \n",
        "    # Tranlsation\n",
        "    IM = Image.fromarray(img)\n",
        "    IM = IM.transform(IM.size, Image.AFFINE, (a, b, c, d, e, f))\n",
        "    \n",
        "    return np.array(IM)"
      ],
      "execution_count": 0,
      "outputs": []
    },
    {
      "cell_type": "code",
      "metadata": {
        "id": "0BYyZCobm0Py",
        "colab_type": "code",
        "outputId": "6328c0c3-7828-4af1-a658-f98ff1d4feab",
        "colab": {
          "base_uri": "https://localhost:8080/",
          "height": 369
        }
      },
      "source": [
        "hF = plt.figure(figsize=(12,6))\n",
        "Ax1 = hF.add_subplot(121)\n",
        "Ax1.imshow(X_train[0, :, :, :])\n",
        "Ax2 = hF.add_subplot(122)\n",
        "Ax2.imshow( image_translation(X_train[0, :, :, :], 0.2))\n",
        "print(X_train.shape);"
      ],
      "execution_count": 24,
      "outputs": [
        {
          "output_type": "stream",
          "text": [
            "(50000, 32, 32, 3)\n"
          ],
          "name": "stdout"
        },
        {
          "output_type": "display_data",
          "data": {
            "image/png": "[encoded data removed]",
            "text/plain": [
              "<Figure size 864x432 with 2 Axes>"
            ]
          },
          "metadata": {
            "tags": []
          }
        }
      ]
    },
    {
      "cell_type": "markdown",
      "metadata": {
        "id": "RAoAHQalm0P0",
        "colab_type": "text"
      },
      "source": [
        "### Rotation"
      ]
    },
    {
      "cell_type": "code",
      "metadata": {
        "id": "36RNEs9om0P1",
        "colab_type": "code",
        "colab": {}
      },
      "source": [
        "def image_rotation(img, angle):\n",
        "    \n",
        "    # Préparation\n",
        "    IM = Image.fromarray(img)\n",
        "    IM = IM.rotate(angle)\n",
        "    \n",
        "    return np.array(IM)"
      ],
      "execution_count": 0,
      "outputs": []
    },
    {
      "cell_type": "code",
      "metadata": {
        "id": "eFIiAYcGm0P3",
        "colab_type": "code",
        "outputId": "ffd385a8-e42a-4fe0-9ebc-e4d5a49c8fff",
        "colab": {
          "base_uri": "https://localhost:8080/",
          "height": 369
        }
      },
      "source": [
        "hF = plt.figure(figsize=(12,6))\n",
        "Ax1 = hF.add_subplot(121)\n",
        "Ax1.imshow(X_train[0, :, :, :])\n",
        "Ax2 = hF.add_subplot(122)\n",
        "Ax2.imshow( image_rotation(X_train[0, :, :, :], 180))\n",
        "print(X_train.shape);"
      ],
      "execution_count": 26,
      "outputs": [
        {
          "output_type": "stream",
          "text": [
            "(50000, 32, 32, 3)\n"
          ],
          "name": "stdout"
        },
        {
          "output_type": "display_data",
          "data": {
            "image/png": "[encoded data removed]",
            "text/plain": [
              "<Figure size 864x432 with 2 Axes>"
            ]
          },
          "metadata": {
            "tags": []
          }
        }
      ]
    },
    {
      "cell_type": "markdown",
      "metadata": {
        "id": "tcassOm5m0P4",
        "colab_type": "text"
      },
      "source": [
        "### Inversion"
      ]
    },
    {
      "cell_type": "code",
      "metadata": {
        "id": "3DeEukRAm0P5",
        "colab_type": "code",
        "colab": {}
      },
      "source": [
        "def image_inversion(img, proba_h, proba_v):\n",
        "    \n",
        "    # Préparation\n",
        "    if proba_h > np.random.random():\n",
        "        if proba_v > np.random.random():\n",
        "            img = img[::-1, ::-1, :]\n",
        "        else:\n",
        "            img = img[:, ::-1, :]\n",
        "    else:\n",
        "        img = img[::-1, :, :]\n",
        "    \n",
        "    return np.array(img)"
      ],
      "execution_count": 0,
      "outputs": []
    },
    {
      "cell_type": "code",
      "metadata": {
        "id": "uphAe8Vfm0P7",
        "colab_type": "code",
        "outputId": "b6c5a743-b8bb-4d0c-ba22-5bd35428ae36",
        "colab": {
          "base_uri": "https://localhost:8080/",
          "height": 352
        }
      },
      "source": [
        "X_train.shape\n",
        "hF = plt.figure(figsize=(12,6))\n",
        "Ax1 = hF.add_subplot(121)\n",
        "Ax1.imshow(X_train[0, :, :, :])\n",
        "Ax2 = hF.add_subplot(122)\n",
        "Ax2.imshow( image_inversion(X_train[0, :, :, :], 0, 0));"
      ],
      "execution_count": 28,
      "outputs": [
        {
          "output_type": "display_data",
          "data": {
            "image/png": "[encoded data removed]",
            "text/plain": [
              "<Figure size 864x432 with 2 Axes>"
            ]
          },
          "metadata": {
            "tags": []
          }
        }
      ]
    },
    {
      "cell_type": "markdown",
      "metadata": {
        "id": "_6sk-HJRm0P8",
        "colab_type": "text"
      },
      "source": [
        "## Partie 3: Construction du réseau"
      ]
    },
    {
      "cell_type": "code",
      "metadata": {
        "id": "oORvorEGm0P9",
        "colab_type": "code",
        "outputId": "88021a25-22a0-4778-ce72-3e4b0ffefd94",
        "colab": {
          "base_uri": "https://localhost:8080/",
          "height": 34
        }
      },
      "source": [
        "vec_permutation = np.random.permutation(50000)\n",
        "vec_permutation"
      ],
      "execution_count": 29,
      "outputs": [
        {
          "output_type": "execute_result",
          "data": {
            "text/plain": [
              "array([41598, 24565, 49644, ..., 31857,  9474,  8209])"
            ]
          },
          "metadata": {
            "tags": []
          },
          "execution_count": 29
        }
      ]
    },
    {
      "cell_type": "markdown",
      "metadata": {
        "id": "5ZdTgl77OhRF",
        "colab_type": "text"
      },
      "source": [
        "### Preprocessing"
      ]
    },
    {
      "cell_type": "code",
      "metadata": {
        "id": "1zIkk_29OJ_O",
        "colab_type": "code",
        "colab": {
          "base_uri": "https://localhost:8080/",
          "height": 34
        },
        "outputId": "233d08b5-2338-4bb9-c2f6-d3b54eaf9f7f"
      },
      "source": [
        "X_train.shape # 50000 images, 3 color channels"
      ],
      "execution_count": 30,
      "outputs": [
        {
          "output_type": "execute_result",
          "data": {
            "text/plain": [
              "(50000, 32, 32, 3)"
            ]
          },
          "metadata": {
            "tags": []
          },
          "execution_count": 30
        }
      ]
    },
    {
      "cell_type": "code",
      "metadata": {
        "id": "NGGlq_xPR1pf",
        "colab_type": "code",
        "colab": {
          "base_uri": "https://localhost:8080/",
          "height": 34
        },
        "outputId": "92ade7a6-5825-413a-c465-3c45533bf670"
      },
      "source": [
        "X_train[0].shape"
      ],
      "execution_count": 31,
      "outputs": [
        {
          "output_type": "execute_result",
          "data": {
            "text/plain": [
              "(32, 32, 3)"
            ]
          },
          "metadata": {
            "tags": []
          },
          "execution_count": 31
        }
      ]
    },
    {
      "cell_type": "code",
      "metadata": {
        "id": "1EuzXXlpR38p",
        "colab_type": "code",
        "colab": {
          "base_uri": "https://localhost:8080/",
          "height": 266
        },
        "outputId": "7d1a102d-d280-440f-fc53-108bb77df402"
      },
      "source": [
        "plt.imshow(X_train[32]);"
      ],
      "execution_count": 32,
      "outputs": [
        {
          "output_type": "display_data",
          "data": {
            "image/png": "[encoded data removed]",
            "text/plain": [
              "<Figure size 432x288 with 1 Axes>"
            ]
          },
          "metadata": {
            "tags": []
          }
        }
      ]
    },
    {
      "cell_type": "code",
      "metadata": {
        "id": "soU4-_tFR31p",
        "colab_type": "code",
        "colab": {
          "base_uri": "https://localhost:8080/",
          "height": 34
        },
        "outputId": "4f09482e-74c7-413f-a1a5-e040f4b0ba75"
      },
      "source": [
        "X_train.max()"
      ],
      "execution_count": 33,
      "outputs": [
        {
          "output_type": "execute_result",
          "data": {
            "text/plain": [
              "255"
            ]
          },
          "metadata": {
            "tags": []
          },
          "execution_count": 33
        }
      ]
    },
    {
      "cell_type": "code",
      "metadata": {
        "id": "pC5Fn895R3uT",
        "colab_type": "code",
        "colab": {}
      },
      "source": [
        "# Normalization\n",
        "\n",
        "X_train = X_train / X_train.max()\n",
        "X_test = X_test /X_test.max()"
      ],
      "execution_count": 0,
      "outputs": []
    },
    {
      "cell_type": "code",
      "metadata": {
        "id": "KoMzTgrcR3oe",
        "colab_type": "code",
        "colab": {
          "base_uri": "https://localhost:8080/",
          "height": 34
        },
        "outputId": "4fa300aa-b0f0-4e6b-fe98-549f38f30635"
      },
      "source": [
        "X_train.shape"
      ],
      "execution_count": 35,
      "outputs": [
        {
          "output_type": "execute_result",
          "data": {
            "text/plain": [
              "(50000, 32, 32, 3)"
            ]
          },
          "metadata": {
            "tags": []
          },
          "execution_count": 35
        }
      ]
    },
    {
      "cell_type": "code",
      "metadata": {
        "id": "nsjZlqdZR3ga",
        "colab_type": "code",
        "colab": {
          "base_uri": "https://localhost:8080/",
          "height": 136
        },
        "outputId": "208a4add-3fb3-4205-f249-bbc0ce0e02a5"
      },
      "source": [
        "Y_train"
      ],
      "execution_count": 36,
      "outputs": [
        {
          "output_type": "execute_result",
          "data": {
            "text/plain": [
              "array([[6],\n",
              "       [9],\n",
              "       [9],\n",
              "       ...,\n",
              "       [9],\n",
              "       [1],\n",
              "       [1]], dtype=uint8)"
            ]
          },
          "metadata": {
            "tags": []
          },
          "execution_count": 36
        }
      ]
    },
    {
      "cell_type": "code",
      "metadata": {
        "id": "lrfwsg7AR3WK",
        "colab_type": "code",
        "colab": {}
      },
      "source": [
        "# One-hot encoding with the help of \"to_categorical\" utility:\n",
        "\n",
        "from keras.utils.np_utils import to_categorical"
      ],
      "execution_count": 0,
      "outputs": []
    },
    {
      "cell_type": "code",
      "metadata": {
        "id": "Tf4tpy8WR3Fd",
        "colab_type": "code",
        "colab": {}
      },
      "source": [
        "Y_categorical_test = to_categorical(Y_test, 10)\n",
        "Y_categorical_train = to_categorical(Y_train, 10)"
      ],
      "execution_count": 0,
      "outputs": []
    },
    {
      "cell_type": "code",
      "metadata": {
        "id": "dz3R7XStSQlg",
        "colab_type": "code",
        "colab": {
          "base_uri": "https://localhost:8080/",
          "height": 136
        },
        "outputId": "20729c28-394d-4b1d-e108-0fe0853966e6"
      },
      "source": [
        "Y_categorical_train"
      ],
      "execution_count": 39,
      "outputs": [
        {
          "output_type": "execute_result",
          "data": {
            "text/plain": [
              "array([[0., 0., 0., ..., 0., 0., 0.],\n",
              "       [0., 0., 0., ..., 0., 0., 1.],\n",
              "       [0., 0., 0., ..., 0., 0., 1.],\n",
              "       ...,\n",
              "       [0., 0., 0., ..., 0., 0., 1.],\n",
              "       [0., 1., 0., ..., 0., 0., 0.],\n",
              "       [0., 1., 0., ..., 0., 0., 0.]], dtype=float32)"
            ]
          },
          "metadata": {
            "tags": []
          },
          "execution_count": 39
        }
      ]
    },
    {
      "cell_type": "code",
      "metadata": {
        "id": "s4X0DunBR24J",
        "colab_type": "code",
        "colab": {}
      },
      "source": [
        ""
      ],
      "execution_count": 0,
      "outputs": []
    },
    {
      "cell_type": "markdown",
      "metadata": {
        "id": "fOZxm_FjayI2",
        "colab_type": "text"
      },
      "source": [
        "### Construction de réseau"
      ]
    },
    {
      "cell_type": "code",
      "metadata": {
        "id": "xGrtoHnYk5KP",
        "colab_type": "code",
        "colab": {}
      },
      "source": [
        "model = tf.keras.models.Sequential()"
      ],
      "execution_count": 0,
      "outputs": []
    },
    {
      "cell_type": "code",
      "metadata": {
        "id": "Zb8P0Ynjx03-",
        "colab_type": "code",
        "colab": {
          "base_uri": "https://localhost:8080/",
          "height": 88
        },
        "outputId": "f53f2a4c-f3ff-459f-ad47-aa19448f9ab9"
      },
      "source": [
        "## FIRST SET OF LAYERS\n",
        "\n",
        "# CONVOLUTIONAL LAYER\n",
        "model.add(tf.keras.layers.Conv2D(filters=32, kernel_size=(4,4),input_shape=(32, 32, 3), activation='relu',))\n",
        "# CONVOLUTIONAL LAYER\n",
        "model.add(tf.keras.layers.Conv2D(filters=32, kernel_size=(4,4),input_shape=(32, 32, 3), activation='relu',))\n",
        "\n",
        "# POOLING LAYER\n",
        "model.add(tf.keras.layers.MaxPool2D(pool_size=(2, 2)))\n",
        "\n",
        "## SECOND SET OF LAYERS\n",
        "\n",
        "# CONVOLUTIONAL LAYER\n",
        "model.add(tf.keras.layers.Conv2D(filters=64, kernel_size=(4,4),input_shape=(32, 32, 3), activation='relu',))\n",
        "# CONVOLUTIONAL LAYER\n",
        "model.add(tf.keras.layers.Conv2D(filters=64, kernel_size=(4,4),input_shape=(32, 32, 3), activation='relu',))\n",
        "\n",
        "# POOLING LAYER\n",
        "model.add(tf.keras.layers.MaxPool2D(pool_size=(2, 2)))\n",
        "\n",
        "# FLATTEN IMAGES FROM 32 by 32 by 3 to 3072 BEFORE FINAL LAYER\n",
        "model.add(tf.keras.layers.Flatten())\n",
        "\n",
        "# 512 NEURONS IN DENSE HIDDEN LAYER (6 times inside 3072, but the number can be changed)\n",
        "model.add(tf.keras.layers.Dense(512, activation='relu'))\n",
        "\n",
        "# LAST LAYER IS THE CLASSIFIER, THUS 10 POSSIBLE CLASSES\n",
        "model.add(tf.keras.layers.Dense(10, activation='softmax'))\n",
        "\n",
        "\n",
        "model.compile(loss='categorical_crossentropy',\n",
        "              optimizer='rmsprop',\n",
        "              metrics=['accuracy'])"
      ],
      "execution_count": 41,
      "outputs": [
        {
          "output_type": "stream",
          "text": [
            "WARNING:tensorflow:From /usr/local/lib/python3.6/dist-packages/tensorflow_core/python/ops/resource_variable_ops.py:1630: calling BaseResourceVariable.__init__ (from tensorflow.python.ops.resource_variable_ops) with constraint is deprecated and will be removed in a future version.\n",
            "Instructions for updating:\n",
            "If using Keras pass *_constraint arguments to layers.\n"
          ],
          "name": "stdout"
        }
      ]
    },
    {
      "cell_type": "code",
      "metadata": {
        "id": "lkElxZBLQfgF",
        "colab_type": "code",
        "colab": {
          "base_uri": "https://localhost:8080/",
          "height": 459
        },
        "outputId": "ed2fc0e6-273f-4cd8-bc12-300cbe46e1ba"
      },
      "source": [
        "model.summary()"
      ],
      "execution_count": 42,
      "outputs": [
        {
          "output_type": "stream",
          "text": [
            "Model: \"sequential\"\n",
            "_________________________________________________________________\n",
            "Layer (type)                 Output Shape              Param #   \n",
            "=================================================================\n",
            "conv2d (Conv2D)              (None, 29, 29, 32)        1568      \n",
            "_________________________________________________________________\n",
            "conv2d_1 (Conv2D)            (None, 26, 26, 32)        16416     \n",
            "_________________________________________________________________\n",
            "max_pooling2d (MaxPooling2D) (None, 13, 13, 32)        0         \n",
            "_________________________________________________________________\n",
            "conv2d_2 (Conv2D)            (None, 10, 10, 64)        32832     \n",
            "_________________________________________________________________\n",
            "conv2d_3 (Conv2D)            (None, 7, 7, 64)          65600     \n",
            "_________________________________________________________________\n",
            "max_pooling2d_1 (MaxPooling2 (None, 3, 3, 64)          0         \n",
            "_________________________________________________________________\n",
            "flatten (Flatten)            (None, 576)               0         \n",
            "_________________________________________________________________\n",
            "dense (Dense)                (None, 512)               295424    \n",
            "_________________________________________________________________\n",
            "dense_1 (Dense)              (None, 10)                5130      \n",
            "=================================================================\n",
            "Total params: 416,970\n",
            "Trainable params: 416,970\n",
            "Non-trainable params: 0\n",
            "_________________________________________________________________\n"
          ],
          "name": "stdout"
        }
      ]
    },
    {
      "cell_type": "markdown",
      "metadata": {
        "id": "yXmQ9Wunm0QA",
        "colab_type": "text"
      },
      "source": [
        "## Partie 4: Définition de la tâche facile"
      ]
    },
    {
      "cell_type": "markdown",
      "metadata": {
        "id": "2B3255i9VyW0",
        "colab_type": "text"
      },
      "source": [
        "### Désolée, Younes, je ne comprends pas les méthodes facile - difficile...... Je viens de faire l'entraînement NN avec Keras. "
      ]
    },
    {
      "cell_type": "code",
      "metadata": {
        "id": "T2rNcRTQm0QA",
        "colab_type": "code",
        "colab": {}
      },
      "source": [
        "vec_permutation = np.random.permutation(50000)\n",
        "X_train_perm = X_train[vec_permutation, :, :, :]\n",
        "Y_train_perm = Y_train[vec_permutation]\n",
        "\n",
        "batch = X_train_perm[:100]\n",
        "\n",
        "for i_ in batch:\n",
        "    # coef_tr = np.random.rand()\n",
        "    # image = image_translation(i_, coef_tr)\n",
        "    image = image_translation(i_, 10)\n",
        "\n"
      ],
      "execution_count": 0,
      "outputs": []
    },
    {
      "cell_type": "markdown",
      "metadata": {
        "id": "9-hqUeg9m0QC",
        "colab_type": "text"
      },
      "source": [
        "## Partie 5: Définition de la tâche difficile"
      ]
    },
    {
      "cell_type": "markdown",
      "metadata": {
        "id": "3XPdDKBdm0QE",
        "colab_type": "text"
      },
      "source": [
        "## Partie 6: Entrainement et monitoring de l'erreur de test"
      ]
    },
    {
      "cell_type": "code",
      "metadata": {
        "id": "PYCTwiVbHax6",
        "colab_type": "code",
        "colab": {
          "base_uri": "https://localhost:8080/",
          "height": 731
        },
        "outputId": "bebc3389-8475-403e-b786-ce5f03b73cef"
      },
      "source": [
        "model.fit(X_train,Y_categorical_train,verbose=1,epochs=20)"
      ],
      "execution_count": 43,
      "outputs": [
        {
          "output_type": "stream",
          "text": [
            "Train on 50000 samples\n",
            "Epoch 1/20\n",
            "50000/50000 [==============================] - 13s 270us/sample - loss: 1.5818 - acc: 0.4297\n",
            "Epoch 2/20\n",
            "50000/50000 [==============================] - 9s 189us/sample - loss: 1.1518 - acc: 0.5969\n",
            "Epoch 3/20\n",
            "50000/50000 [==============================] - 10s 193us/sample - loss: 0.9970 - acc: 0.6556\n",
            "Epoch 4/20\n",
            "50000/50000 [==============================] - 9s 190us/sample - loss: 0.9312 - acc: 0.6822\n",
            "Epoch 5/20\n",
            "50000/50000 [==============================] - 10s 192us/sample - loss: 0.8973 - acc: 0.6974\n",
            "Epoch 6/20\n",
            "50000/50000 [==============================] - 9s 189us/sample - loss: 0.8886 - acc: 0.7018\n",
            "Epoch 7/20\n",
            "50000/50000 [==============================] - 9s 190us/sample - loss: 0.8729 - acc: 0.7081\n",
            "Epoch 8/20\n",
            "50000/50000 [==============================] - 10s 190us/sample - loss: 0.8687 - acc: 0.7089\n",
            "Epoch 9/20\n",
            "50000/50000 [==============================] - 9s 187us/sample - loss: 0.8665 - acc: 0.7147\n",
            "Epoch 10/20\n",
            "50000/50000 [==============================] - 9s 185us/sample - loss: 0.8658 - acc: 0.7160\n",
            "Epoch 11/20\n",
            "50000/50000 [==============================] - 10s 191us/sample - loss: 0.8561 - acc: 0.7185\n",
            "Epoch 12/20\n",
            "50000/50000 [==============================] - 10s 191us/sample - loss: 0.8453 - acc: 0.7214\n",
            "Epoch 13/20\n",
            "50000/50000 [==============================] - 9s 189us/sample - loss: 0.8411 - acc: 0.7246\n",
            "Epoch 14/20\n",
            "50000/50000 [==============================] - 9s 190us/sample - loss: 0.8330 - acc: 0.7285\n",
            "Epoch 15/20\n",
            "50000/50000 [==============================] - 9s 184us/sample - loss: 0.8462 - acc: 0.7274\n",
            "Epoch 16/20\n",
            "50000/50000 [==============================] - 9s 184us/sample - loss: 0.8420 - acc: 0.7282\n",
            "Epoch 17/20\n",
            "50000/50000 [==============================] - 9s 179us/sample - loss: 0.8260 - acc: 0.7345\n",
            "Epoch 18/20\n",
            "50000/50000 [==============================] - 9s 180us/sample - loss: 0.8923 - acc: 0.7335\n",
            "Epoch 19/20\n",
            "50000/50000 [==============================] - 9s 180us/sample - loss: 0.8430 - acc: 0.7322\n",
            "Epoch 20/20\n",
            "50000/50000 [==============================] - 9s 186us/sample - loss: 0.8069 - acc: 0.7378\n"
          ],
          "name": "stdout"
        },
        {
          "output_type": "execute_result",
          "data": {
            "text/plain": [
              "<tensorflow.python.keras.callbacks.History at 0x7f53b7327d68>"
            ]
          },
          "metadata": {
            "tags": []
          },
          "execution_count": 43
        }
      ]
    },
    {
      "cell_type": "code",
      "metadata": {
        "id": "3M5shUbGQwDf",
        "colab_type": "code",
        "colab": {}
      },
      "source": [
        "from sklearn.metrics import classification_report"
      ],
      "execution_count": 0,
      "outputs": []
    },
    {
      "cell_type": "code",
      "metadata": {
        "id": "J6E70CIvToJG",
        "colab_type": "code",
        "colab": {}
      },
      "source": [
        "predictions = model.predict_classes(X_test)"
      ],
      "execution_count": 0,
      "outputs": []
    },
    {
      "cell_type": "code",
      "metadata": {
        "id": "1yPOJVntUpdk",
        "colab_type": "code",
        "colab": {
          "base_uri": "https://localhost:8080/",
          "height": 306
        },
        "outputId": "fceb289e-4818-4583-97fb-37a00b6b43d0"
      },
      "source": [
        "print(classification_report(Y_test,predictions))"
      ],
      "execution_count": 48,
      "outputs": [
        {
          "output_type": "stream",
          "text": [
            "              precision    recall  f1-score   support\n",
            "\n",
            "           0       0.73      0.69      0.71      1000\n",
            "           1       0.63      0.93      0.75      1000\n",
            "           2       0.64      0.52      0.58      1000\n",
            "           3       0.65      0.37      0.47      1000\n",
            "           4       0.63      0.71      0.66      1000\n",
            "           5       0.65      0.67      0.66      1000\n",
            "           6       0.80      0.77      0.79      1000\n",
            "           7       0.72      0.76      0.74      1000\n",
            "           8       0.69      0.88      0.77      1000\n",
            "           9       0.84      0.65      0.73      1000\n",
            "\n",
            "    accuracy                           0.69     10000\n",
            "   macro avg       0.70      0.69      0.69     10000\n",
            "weighted avg       0.70      0.69      0.69     10000\n",
            "\n"
          ],
          "name": "stdout"
        }
      ]
    },
    {
      "cell_type": "code",
      "metadata": {
        "id": "m51J7wILUv86",
        "colab_type": "code",
        "colab": {}
      },
      "source": [
        ""
      ],
      "execution_count": 0,
      "outputs": []
    }
  ]
}