{
  "nbformat": 4,
  "nbformat_minor": 0,
  "metadata": {
    "colab": {
      "name": "TF1_03_Neural_Network.ipynb",
      "provenance": [],
      "include_colab_link": true
    },
    "kernelspec": {
      "name": "python3",
      "display_name": "Python 3"
    }
  },
  "cells": [
    {
      "cell_type": "markdown",
      "metadata": {
        "id": "view-in-github",
        "colab_type": "text"
      },
      "source": [
        "<a href=\"https://colab.research.google.com/github/noircir/TensorFlow-Examples/blob/master/TF1_03_Neural_Network.ipynb\" target=\"_parent\"><img src=\"https://colab.research.google.com/assets/colab-badge.svg\" alt=\"Open In Colab\"/></a>"
      ]
    },
    {
      "cell_type": "code",
      "metadata": {
        "id": "XVH5v6e-X6uS",
        "colab_type": "code",
        "colab": {}
      },
      "source": [
        "import numpy as np\n",
        "import tensorflow as tf"
      ],
      "execution_count": 0,
      "outputs": []
    },
    {
      "cell_type": "code",
      "metadata": {
        "id": "H8IghdSUYmGv",
        "colab_type": "code",
        "colab": {}
      },
      "source": [
        "np.random.seed(101)\n",
        "tf.set_random_seed(101)"
      ],
      "execution_count": 0,
      "outputs": []
    },
    {
      "cell_type": "code",
      "metadata": {
        "id": "TAsJ8QegYs_l",
        "colab_type": "code",
        "colab": {
          "base_uri": "https://localhost:8080/",
          "height": 102
        },
        "outputId": "d4c361d6-6f1c-429b-c51f-28e9124fc71d"
      },
      "source": [
        "rand_a = np.random.uniform(0,100,(5,5))\n",
        "rand_a"
      ],
      "execution_count": 19,
      "outputs": [
        {
          "output_type": "execute_result",
          "data": {
            "text/plain": [
              "array([[51.63986277, 57.06675869,  2.84742265, 17.15216562, 68.52769817],\n",
              "       [83.38968626, 30.69662197, 89.36130797, 72.15438618, 18.99389542],\n",
              "       [55.42275911, 35.2131954 , 18.18924027, 78.56017619, 96.54832224],\n",
              "       [23.23536618,  8.35614337, 60.35484223, 72.89927573, 27.62388285],\n",
              "       [68.53063288, 51.78674742,  4.84845374, 13.78692376, 18.69674261]])"
            ]
          },
          "metadata": {
            "tags": []
          },
          "execution_count": 19
        }
      ]
    },
    {
      "cell_type": "code",
      "metadata": {
        "id": "MWr8jGu4Y_19",
        "colab_type": "code",
        "colab": {
          "base_uri": "https://localhost:8080/",
          "height": 102
        },
        "outputId": "4fa9a156-70e1-47a6-a477-031044ca1298"
      },
      "source": [
        "rand_b = np.random.uniform(0,100,(5,1))\n",
        "rand_b"
      ],
      "execution_count": 20,
      "outputs": [
        {
          "output_type": "execute_result",
          "data": {
            "text/plain": [
              "array([[99.43179012],\n",
              "       [52.06653967],\n",
              "       [57.87895355],\n",
              "       [73.48190583],\n",
              "       [54.19617722]])"
            ]
          },
          "metadata": {
            "tags": []
          },
          "execution_count": 20
        }
      ]
    },
    {
      "cell_type": "code",
      "metadata": {
        "id": "GCVzpxpGZGZO",
        "colab_type": "code",
        "colab": {}
      },
      "source": [
        "a = tf.placeholder(tf.float32)\n",
        "b = tf.placeholder(tf.float32)"
      ],
      "execution_count": 0,
      "outputs": []
    },
    {
      "cell_type": "code",
      "metadata": {
        "id": "IbpXxC9qeBpP",
        "colab_type": "code",
        "colab": {}
      },
      "source": [
        "# TF will understand that there operations have to be done on matrices (element-wise addition and multiplication)\n",
        "# Also could have used tf.add and tf.multiply (both element-wise)\n",
        "\n",
        "add_op = a + b\n",
        "mul_op = a * b"
      ],
      "execution_count": 0,
      "outputs": []
    },
    {
      "cell_type": "code",
      "metadata": {
        "id": "eMkNAvOGeyAj",
        "colab_type": "code",
        "colab": {
          "base_uri": "https://localhost:8080/",
          "height": 221
        },
        "outputId": "0af4caf6-b0fb-44c4-af9f-adda9b2ca277"
      },
      "source": [
        "with tf.Session() as sess:\n",
        "  add_result = sess.run(add_op, feed_dict={a:rand_a, b:rand_b})\n",
        "  print(add_result)\n",
        "  print('\\n')\n",
        "\n",
        "  mul_result = sess.run(mul_op, feed_dict={a:rand_a, b:rand_b})\n",
        "  print(mul_result)\n"
      ],
      "execution_count": 23,
      "outputs": [
        {
          "output_type": "stream",
          "text": [
            "[[151.07166  156.49855  102.27921  116.58396  167.95949 ]\n",
            " [135.45622   82.76316  141.42784  124.22093   71.06043 ]\n",
            " [113.30171   93.09215   76.06819  136.43912  154.42728 ]\n",
            " [ 96.71727   81.83804  133.83675  146.38118  101.10579 ]\n",
            " [122.72681  105.982925  59.044632  67.9831    72.89292 ]]\n",
            "\n",
            "\n",
            "[[5134.644   5674.25     283.12433 1705.4707  6813.8315 ]\n",
            " [4341.8125  1598.267   4652.734   3756.8293   988.94635]\n",
            " [3207.8113  2038.1029  1052.7742  4546.9805  5588.1157 ]\n",
            " [1707.379    614.02527 4434.989   5356.7773  2029.8555 ]\n",
            " [3714.0984  2806.6438   262.76764  747.19855 1013.292  ]]\n"
          ],
          "name": "stdout"
        }
      ]
    },
    {
      "cell_type": "markdown",
      "metadata": {
        "id": "GkUB83AVgbT5",
        "colab_type": "text"
      },
      "source": [
        "# Example Neural Network"
      ]
    },
    {
      "cell_type": "code",
      "metadata": {
        "id": "RguPWA7ifNIM",
        "colab_type": "code",
        "colab": {}
      },
      "source": [
        "n_features = 10\n",
        "n_dense_neurons = 3"
      ],
      "execution_count": 0,
      "outputs": []
    },
    {
      "cell_type": "code",
      "metadata": {
        "id": "1HDVM7LJmtEg",
        "colab_type": "code",
        "colab": {}
      },
      "source": [
        "# Placeholder for x\n",
        "x = tf.placeholder(tf.float32,(None,n_features))"
      ],
      "execution_count": 0,
      "outputs": []
    },
    {
      "cell_type": "code",
      "metadata": {
        "id": "XbENBKtkrx94",
        "colab_type": "code",
        "colab": {}
      },
      "source": [
        "# Variables for w and b\n",
        "\n",
        "W = tf.Variable(tf.random_normal([n_features,n_dense_neurons]))\n",
        "\n",
        "b = tf.Variable(tf.zeros([n_dense_neurons]))"
      ],
      "execution_count": 0,
      "outputs": []
    },
    {
      "cell_type": "markdown",
      "metadata": {
        "id": "dVOpXhA_tDQM",
        "colab_type": "text"
      },
      "source": [
        "** Operation Activation Function **"
      ]
    },
    {
      "cell_type": "code",
      "metadata": {
        "id": "DeusbeYEr8ql",
        "colab_type": "code",
        "colab": {}
      },
      "source": [
        "xW = tf.matmul(x,W) # not element-wise \n",
        "z = tf.add(xW,b) # element-wise\n",
        "\n",
        "# tf.nn.relu() or tf.tanh()\n",
        "a = tf.sigmoid(z)"
      ],
      "execution_count": 0,
      "outputs": []
    },
    {
      "cell_type": "markdown",
      "metadata": {
        "id": "heAXvwjttEiG",
        "colab_type": "text"
      },
      "source": [
        "** Variable Intializer! **"
      ]
    },
    {
      "cell_type": "code",
      "metadata": {
        "id": "LAIorxg0tHix",
        "colab_type": "code",
        "colab": {}
      },
      "source": [
        "init = tf.global_variables_initializer()"
      ],
      "execution_count": 0,
      "outputs": []
    },
    {
      "cell_type": "code",
      "metadata": {
        "id": "HHGrz_Ppv8Lq",
        "colab_type": "code",
        "colab": {}
      },
      "source": [
        "with tf.Session() as sess:\n",
        "    sess.run(init)\n",
        "    \n",
        "    layer_out = sess.run(a,feed_dict={x : np.random.random([1,n_features])})"
      ],
      "execution_count": 0,
      "outputs": []
    },
    {
      "cell_type": "code",
      "metadata": {
        "id": "uPI1doX8wxkt",
        "colab_type": "code",
        "colab": {
          "base_uri": "https://localhost:8080/",
          "height": 34
        },
        "outputId": "ead3579d-63f1-4409-cb2d-c284ef9d1615"
      },
      "source": [
        "print(layer_out)"
      ],
      "execution_count": 30,
      "outputs": [
        {
          "output_type": "stream",
          "text": [
            "[[0.25741798 0.00527715 0.0514559 ]]\n"
          ],
          "name": "stdout"
        }
      ]
    },
    {
      "cell_type": "markdown",
      "metadata": {
        "id": "d7vS2pzDxwFY",
        "colab_type": "text"
      },
      "source": [
        "No cost function yet, so..."
      ]
    },
    {
      "cell_type": "markdown",
      "metadata": {
        "id": "uMoxLvcZxsWp",
        "colab_type": "text"
      },
      "source": [
        "# Simple Regression Example"
      ]
    },
    {
      "cell_type": "markdown",
      "metadata": {
        "id": "04KrjqVFx_Wm",
        "colab_type": "text"
      },
      "source": [
        "Let's work on a regression example, we are trying to solve a very simple equation:\n",
        "\n",
        "y = mx + b\n",
        "\n",
        "y will be the y_labels and x is the x_data. We are trying to figure out the slope and the intercept for the line that best fits our data!"
      ]
    },
    {
      "cell_type": "markdown",
      "metadata": {
        "id": "hiK3oTBZyE-4",
        "colab_type": "text"
      },
      "source": [
        "### Artifical Data (Some Made Up Regression Data)"
      ]
    },
    {
      "cell_type": "code",
      "metadata": {
        "id": "hgPm7ylqxK-a",
        "colab_type": "code",
        "colab": {
          "base_uri": "https://localhost:8080/",
          "height": 51
        },
        "outputId": "58e3ad34-2e08-4991-9e46-7e93002446de"
      },
      "source": [
        "# Equally spaced data with some noise added or subtracted\n",
        "\n",
        "x_data = np.linspace(0,10,10) + np.random.uniform(-1.5,1.5,10)\n",
        "x_data"
      ],
      "execution_count": 42,
      "outputs": [
        {
          "output_type": "execute_result",
          "data": {
            "text/plain": [
              "array([ 0.58369399,  0.63848141,  1.95939391,  2.55270623,  5.85095237,\n",
              "        4.92122658,  5.6086015 ,  6.6657991 , 10.22105704,  9.55430279])"
            ]
          },
          "metadata": {
            "tags": []
          },
          "execution_count": 42
        }
      ]
    },
    {
      "cell_type": "code",
      "metadata": {
        "id": "bRYOZlVZyOYJ",
        "colab_type": "code",
        "colab": {
          "base_uri": "https://localhost:8080/",
          "height": 51
        },
        "outputId": "1bd08a2e-2910-424b-8edf-4ef2a4b78aff"
      },
      "source": [
        "np.random.uniform(-1.5,1.5,10)"
      ],
      "execution_count": 33,
      "outputs": [
        {
          "output_type": "execute_result",
          "data": {
            "text/plain": [
              "array([-0.17289561,  1.13276197,  1.34779239, -0.06549775, -0.11664197,\n",
              "        0.41186709, -0.52617601, -1.14726572, -1.34669701,  0.41297596])"
            ]
          },
          "metadata": {
            "tags": []
          },
          "execution_count": 33
        }
      ]
    },
    {
      "cell_type": "code",
      "metadata": {
        "id": "TBhHNXTXzA1q",
        "colab_type": "code",
        "colab": {
          "base_uri": "https://localhost:8080/",
          "height": 51
        },
        "outputId": "a9407bcd-5fa7-46f8-d3a9-0d9d0da4dc7e"
      },
      "source": [
        "y_label = np.linspace(0,10,10) + np.random.uniform(-1.5,1.5,10)\n",
        "y_label"
      ],
      "execution_count": 40,
      "outputs": [
        {
          "output_type": "execute_result",
          "data": {
            "text/plain": [
              "array([-1.25968938,  1.43275993,  2.61476233,  2.96715913,  2.98416748,\n",
              "        6.58221379,  6.3214799 ,  7.93277531,  9.52050331, 10.52583655])"
            ]
          },
          "metadata": {
            "tags": []
          },
          "execution_count": 40
        }
      ]
    },
    {
      "cell_type": "code",
      "metadata": {
        "id": "uYJTCZ7Y4KRw",
        "colab_type": "code",
        "colab": {}
      },
      "source": [
        "import matplotlib.pyplot as plt"
      ],
      "execution_count": 0,
      "outputs": []
    },
    {
      "cell_type": "code",
      "metadata": {
        "id": "wQfhybNwzmVq",
        "colab_type": "code",
        "colab": {
          "base_uri": "https://localhost:8080/",
          "height": 282
        },
        "outputId": "437e742e-07e2-4322-c896-6a02f0b5bc23"
      },
      "source": [
        "plt.plot(x_data,y_label,'*')"
      ],
      "execution_count": 43,
      "outputs": [
        {
          "output_type": "execute_result",
          "data": {
            "text/plain": [
              "[<matplotlib.lines.Line2D at 0x7f4b027467b8>]"
            ]
          },
          "metadata": {
            "tags": []
          },
          "execution_count": 43
        },
        {
          "output_type": "display_data",
          "data": {
            "image/png": "[encoded data removed]",
            "text/plain": [
              "<Figure size 432x288 with 1 Axes>"
            ]
          },
          "metadata": {
            "tags": []
          }
        }
      ]
    },
    {
      "cell_type": "markdown",
      "metadata": {
        "id": "0J4M5_ZO4jtq",
        "colab_type": "text"
      },
      "source": [
        "y = mx + b"
      ]
    },
    {
      "cell_type": "markdown",
      "metadata": {
        "id": "8jOD4xEU4sBU",
        "colab_type": "text"
      },
      "source": [
        "** Variables **"
      ]
    },
    {
      "cell_type": "code",
      "metadata": {
        "id": "9OTYllHxzsV4",
        "colab_type": "code",
        "colab": {
          "base_uri": "https://localhost:8080/",
          "height": 34
        },
        "outputId": "4c165f6c-c0b2-4c3a-f9f4-ff9cb69c6873"
      },
      "source": [
        "np.random.rand(2)"
      ],
      "execution_count": 44,
      "outputs": [
        {
          "output_type": "execute_result",
          "data": {
            "text/plain": [
              "array([0.73356761, 0.91388953])"
            ]
          },
          "metadata": {
            "tags": []
          },
          "execution_count": 44
        }
      ]
    },
    {
      "cell_type": "code",
      "metadata": {
        "id": "8vUmU6hP4v5X",
        "colab_type": "code",
        "colab": {}
      },
      "source": [
        "m = tf.Variable(0.39)\n",
        "b = tf.Variable(0.2)"
      ],
      "execution_count": 0,
      "outputs": []
    },
    {
      "cell_type": "markdown",
      "metadata": {
        "id": "xptbyWEG5PDJ",
        "colab_type": "text"
      },
      "source": [
        "## Cost Function"
      ]
    },
    {
      "cell_type": "code",
      "metadata": {
        "id": "NNX5LhfE409-",
        "colab_type": "code",
        "colab": {}
      },
      "source": [
        "error = 0\n",
        "\n",
        "for x,y in zip(x_data,y_label):\n",
        "    \n",
        "    y_hat = m*x + b  # Our predicted value\n",
        "    \n",
        "    error += (y-y_hat)**2 # The cost we want to minimize (we'll need to use an optimization function for the minimization!)"
      ],
      "execution_count": 0,
      "outputs": []
    },
    {
      "cell_type": "markdown",
      "metadata": {
        "id": "OxTUTBWN6qmt",
        "colab_type": "text"
      },
      "source": [
        "## Optimizer"
      ]
    },
    {
      "cell_type": "code",
      "metadata": {
        "id": "4GMC72bV5Tsl",
        "colab_type": "code",
        "colab": {
          "base_uri": "https://localhost:8080/",
          "height": 88
        },
        "outputId": "6d33f302-d719-4e3d-c9d2-946716cdde11"
      },
      "source": [
        "optimizer = tf.train.GradientDescentOptimizer(learning_rate=0.001)\n",
        "train = optimizer.minimize(error)"
      ],
      "execution_count": 48,
      "outputs": [
        {
          "output_type": "stream",
          "text": [
            "WARNING:tensorflow:From /usr/local/lib/python3.6/dist-packages/tensorflow_core/python/ops/math_grad.py:1375: where (from tensorflow.python.ops.array_ops) is deprecated and will be removed in a future version.\n",
            "Instructions for updating:\n",
            "Use tf.where in 2.0, which has the same broadcast rule as np.where\n"
          ],
          "name": "stdout"
        }
      ]
    },
    {
      "cell_type": "markdown",
      "metadata": {
        "id": "C5MKN0sM7Mkp",
        "colab_type": "text"
      },
      "source": [
        "### Initialize Variables"
      ]
    },
    {
      "cell_type": "code",
      "metadata": {
        "id": "xW4nAQOD6y6L",
        "colab_type": "code",
        "colab": {}
      },
      "source": [
        "init = tf.global_variables_initializer()"
      ],
      "execution_count": 0,
      "outputs": []
    },
    {
      "cell_type": "markdown",
      "metadata": {
        "id": "mRVcZvPi_Vbu",
        "colab_type": "text"
      },
      "source": [
        "### Create Session and Run!"
      ]
    },
    {
      "cell_type": "code",
      "metadata": {
        "id": "wckpbdVj_Q9K",
        "colab_type": "code",
        "colab": {}
      },
      "source": [
        "with tf.Session() as sess:\n",
        "    \n",
        "    sess.run(init)\n",
        "    \n",
        "    training_steps = 100\n",
        "    \n",
        "    for i in range(training_steps):\n",
        "        \n",
        "        sess.run(train)\n",
        "        \n",
        "\n",
        "    # Fetch Back Results\n",
        "    final_slope , final_intercept = sess.run([m,b])"
      ],
      "execution_count": 0,
      "outputs": []
    },
    {
      "cell_type": "code",
      "metadata": {
        "id": "nB-WIcWjAAX9",
        "colab_type": "code",
        "colab": {
          "base_uri": "https://localhost:8080/",
          "height": 51
        },
        "outputId": "f4383b80-98cc-4f86-c3f2-b509a634312e"
      },
      "source": [
        "print(final_slope, '\\n', final_intercept)"
      ],
      "execution_count": 57,
      "outputs": [
        {
          "output_type": "stream",
          "text": [
            "1.0011342 \n",
            " 0.14997692\n"
          ],
          "name": "stdout"
        }
      ]
    },
    {
      "cell_type": "markdown",
      "metadata": {
        "id": "5d4BkStzAdbs",
        "colab_type": "text"
      },
      "source": [
        "## Evaluate results"
      ]
    },
    {
      "cell_type": "code",
      "metadata": {
        "id": "s-eQkAolAYwx",
        "colab_type": "code",
        "colab": {
          "base_uri": "https://localhost:8080/",
          "height": 282
        },
        "outputId": "d0da70fb-17c5-4800-cb10-be685270f6cf"
      },
      "source": [
        "x_test = np.linspace(-1,11,10)\n",
        "y_pred_plot = final_slope*x_test + final_intercept\n",
        "\n",
        "plt.plot(x_test,y_pred_plot,'r')\n",
        "\n",
        "plt.plot(x_data,y_label,'*')"
      ],
      "execution_count": 56,
      "outputs": [
        {
          "output_type": "execute_result",
          "data": {
            "text/plain": [
              "[<matplotlib.lines.Line2D at 0x7f4b0256f320>]"
            ]
          },
          "metadata": {
            "tags": []
          },
          "execution_count": 56
        },
        {
          "output_type": "display_data",
          "data": {
            "image/png": "[encoded data removed]",
            "text/plain": [
              "<Figure size 432x288 with 1 Axes>"
            ]
          },
          "metadata": {
            "tags": []
          }
        }
      ]
    },
    {
      "cell_type": "code",
      "metadata": {
        "id": "WbGyk0bKAjqt",
        "colab_type": "code",
        "colab": {}
      },
      "source": [
        ""
      ],
      "execution_count": 0,
      "outputs": []
    }
  ]
}