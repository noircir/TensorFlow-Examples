{
  "nbformat": 4,
  "nbformat_minor": 0,
  "metadata": {
    "colab": {
      "name": "TF1_00_Syntax_Basics.ipynb",
      "provenance": [],
      "collapsed_sections": [],
      "include_colab_link": true
    },
    "kernelspec": {
      "name": "python3",
      "display_name": "Python 3"
    }
  },
  "cells": [
    {
      "cell_type": "markdown",
      "metadata": {
        "id": "view-in-github",
        "colab_type": "text"
      },
      "source": [
        "<a href=\"https://colab.research.google.com/github/noircir/TensorFlow-Examples/blob/master/TF1_00_Syntax_Basics.ipynb\" target=\"_parent\"><img src=\"https://colab.research.google.com/assets/colab-badge.svg\" alt=\"Open In Colab\"/></a>"
      ]
    },
    {
      "cell_type": "markdown",
      "metadata": {
        "id": "56trbVfj1ltj",
        "colab_type": "text"
      },
      "source": [
        "# TF Syntax Basics"
      ]
    },
    {
      "cell_type": "code",
      "metadata": {
        "id": "5j4k9dh21kox",
        "colab_type": "code",
        "outputId": "a07bf60f-f4a1-4bdf-da5f-15d031092df2",
        "colab": {
          "base_uri": "https://localhost:8080/",
          "height": 63
        }
      },
      "source": [
        "import tensorflow as tf"
      ],
      "execution_count": 0,
      "outputs": [
        {
          "output_type": "display_data",
          "data": {
            "text/html": [
              "<p style=\"color: red;\">\n",
              "The default version of TensorFlow in Colab will soon switch to TensorFlow 2.x.<br>\n",
              "We recommend you <a href=\"https://www.tensorflow.org/guide/migrate\" target=\"_blank\">upgrade</a> now \n",
              "or ensure your notebook will continue to use TensorFlow 1.x via the <code>%tensorflow_version 1.x</code> magic:\n",
              "<a href=\"https://colab.research.google.com/notebooks/tensorflow_version.ipynb\" target=\"_blank\">more info</a>.</p>\n"
            ],
            "text/plain": [
              "<IPython.core.display.HTML object>"
            ]
          },
          "metadata": {
            "tags": []
          }
        }
      ]
    },
    {
      "cell_type": "code",
      "metadata": {
        "id": "aSvcTYIC11Gq",
        "colab_type": "code",
        "outputId": "e88e66a2-1db8-440c-eabd-e52ff8b262c8",
        "colab": {
          "base_uri": "https://localhost:8080/",
          "height": 34
        }
      },
      "source": [
        "print(tf.__version__)"
      ],
      "execution_count": 0,
      "outputs": [
        {
          "output_type": "stream",
          "text": [
            "1.15.0\n"
          ],
          "name": "stdout"
        }
      ]
    },
    {
      "cell_type": "code",
      "metadata": {
        "id": "xy-1rZ3s150p",
        "colab_type": "code",
        "colab": {}
      },
      "source": [
        "hello = tf.constant(\"Hello\")\n",
        "world = tf.constant(\"World\")"
      ],
      "execution_count": 0,
      "outputs": []
    },
    {
      "cell_type": "code",
      "metadata": {
        "id": "9peL_Pw72cb_",
        "colab_type": "code",
        "outputId": "60a9e837-12e6-46bb-982c-cd2b0f309f0f",
        "colab": {
          "base_uri": "https://localhost:8080/",
          "height": 34
        }
      },
      "source": [
        "type(hello)"
      ],
      "execution_count": 0,
      "outputs": [
        {
          "output_type": "execute_result",
          "data": {
            "text/plain": [
              "tensorflow.python.framework.ops.Tensor"
            ]
          },
          "metadata": {
            "tags": []
          },
          "execution_count": 5
        }
      ]
    },
    {
      "cell_type": "code",
      "metadata": {
        "id": "rmSlxnL72dwr",
        "colab_type": "code",
        "colab": {}
      },
      "source": [
        "with tf.Session() as sess:\n",
        "  result = sess.run(hello+world)  # or s1 = hello + world;  session.run(s1)"
      ],
      "execution_count": 0,
      "outputs": []
    },
    {
      "cell_type": "code",
      "metadata": {
        "id": "YuQbK7FI28Ha",
        "colab_type": "code",
        "outputId": "ed9f21c4-e154-4310-e199-b00615bb51a5",
        "colab": {
          "base_uri": "https://localhost:8080/",
          "height": 34
        }
      },
      "source": [
        "print(result)"
      ],
      "execution_count": 0,
      "outputs": [
        {
          "output_type": "stream",
          "text": [
            "b'HelloWorld'\n"
          ],
          "name": "stdout"
        }
      ]
    },
    {
      "cell_type": "markdown",
      "metadata": {
        "id": "AZs9I3jS3SN9",
        "colab_type": "text"
      },
      "source": [
        "## Addition"
      ]
    },
    {
      "cell_type": "code",
      "metadata": {
        "id": "HWNCRmBz3IeD",
        "colab_type": "code",
        "colab": {}
      },
      "source": [
        "tensor_1 = tf.constant(1)\n",
        "tensor_2 = tf.constant(2)"
      ],
      "execution_count": 0,
      "outputs": []
    },
    {
      "cell_type": "code",
      "metadata": {
        "id": "ckWx0Pr53UXO",
        "colab_type": "code",
        "outputId": "ac2d1925-07c7-49ec-95ed-991387c48702",
        "colab": {
          "base_uri": "https://localhost:8080/",
          "height": 34
        }
      },
      "source": [
        "with tf.Session() as sess:\n",
        "  result = sess.run(tensor_1 + tensor_2)\n",
        "\n",
        "print(result)"
      ],
      "execution_count": 0,
      "outputs": [
        {
          "output_type": "stream",
          "text": [
            "3\n"
          ],
          "name": "stdout"
        }
      ]
    },
    {
      "cell_type": "markdown",
      "metadata": {
        "id": "ofoCfCKN5tkN",
        "colab_type": "text"
      },
      "source": [
        "## Operations"
      ]
    },
    {
      "cell_type": "code",
      "metadata": {
        "id": "Y9xcFyaU3rJR",
        "colab_type": "code",
        "colab": {}
      },
      "source": [
        "# constant operation\n",
        "const = tf.constant(10)"
      ],
      "execution_count": 0,
      "outputs": []
    },
    {
      "cell_type": "code",
      "metadata": {
        "id": "WHxZ-CrU35rT",
        "colab_type": "code",
        "colab": {}
      },
      "source": [
        "# a matrix to fill with a scalar value\n",
        "# 4x4 tensor filled with value 10\n",
        "fill_mat = tf.fill((4,4),10)"
      ],
      "execution_count": 0,
      "outputs": []
    },
    {
      "cell_type": "code",
      "metadata": {
        "id": "3vKR-DubGkdK",
        "colab_type": "code",
        "colab": {}
      },
      "source": [
        "myzeros = tf.zeros((4,4))\n",
        "myones = tf.ones((4,4))\n",
        "myrandn = tf.random_normal((4,4),mean=0,stddev=0.5)\n",
        "myrandu = tf.random_uniform((4,4),minval=0,maxval=1)\n"
      ],
      "execution_count": 0,
      "outputs": []
    },
    {
      "cell_type": "code",
      "metadata": {
        "id": "ezLDohbSHuZr",
        "colab_type": "code",
        "colab": {}
      },
      "source": [
        "my_operations = [const,fill_mat,myzeros,myones,myrandn,myrandu]"
      ],
      "execution_count": 0,
      "outputs": []
    },
    {
      "cell_type": "markdown",
      "metadata": {
        "id": "HPRNckXqH9ud",
        "colab_type": "text"
      },
      "source": [
        "## Interactive session\n",
        "\n",
        "Only used in notebooks"
      ]
    },
    {
      "cell_type": "code",
      "metadata": {
        "id": "YyVthfIeH4B4",
        "colab_type": "code",
        "colab": {}
      },
      "source": [
        "# only run once\n",
        "sess = tf.InteractiveSession() "
      ],
      "execution_count": 0,
      "outputs": []
    },
    {
      "cell_type": "code",
      "metadata": {
        "id": "3kKfGqMwIGya",
        "colab_type": "code",
        "outputId": "ed061609-87e3-4c92-dcc1-50be2a3b8377",
        "colab": {
          "base_uri": "https://localhost:8080/",
          "height": 578
        }
      },
      "source": [
        "for op in my_operations:\n",
        "    print(op.eval()) # or sess.run(op)\n",
        "    print('\\n')"
      ],
      "execution_count": 0,
      "outputs": [
        {
          "output_type": "stream",
          "text": [
            "10\n",
            "\n",
            "\n",
            "[[10 10 10 10]\n",
            " [10 10 10 10]\n",
            " [10 10 10 10]\n",
            " [10 10 10 10]]\n",
            "\n",
            "\n",
            "[[0. 0. 0. 0.]\n",
            " [0. 0. 0. 0.]\n",
            " [0. 0. 0. 0.]\n",
            " [0. 0. 0. 0.]]\n",
            "\n",
            "\n",
            "[[1. 1. 1. 1.]\n",
            " [1. 1. 1. 1.]\n",
            " [1. 1. 1. 1.]\n",
            " [1. 1. 1. 1.]]\n",
            "\n",
            "\n",
            "[[-0.09672508 -0.18989788  0.452018   -1.3089358 ]\n",
            " [-0.42229736  0.39074412 -0.10297     0.7585703 ]\n",
            " [ 0.5387069   0.8633109   0.17837074  0.9517313 ]\n",
            " [ 0.01825788  0.33625564 -0.20724633  0.73964816]]\n",
            "\n",
            "\n",
            "[[7.0383465e-01 5.8903348e-01 7.4690652e-01 2.7108669e-02]\n",
            " [9.4118834e-02 7.9201162e-01 3.0925405e-01 3.4432828e-01]\n",
            " [5.4575527e-01 5.7125843e-01 5.3993523e-01 8.6973107e-01]\n",
            " [8.1989264e-01 4.3965816e-01 5.7625771e-04 2.7588487e-02]]\n",
            "\n",
            "\n"
          ],
          "name": "stdout"
        }
      ]
    },
    {
      "cell_type": "markdown",
      "metadata": {
        "id": "r1Lt6l2LJNVI",
        "colab_type": "text"
      },
      "source": [
        "## Matrix Multiplication"
      ]
    },
    {
      "cell_type": "code",
      "metadata": {
        "id": "xXKlYhWEIUD2",
        "colab_type": "code",
        "colab": {}
      },
      "source": [
        "a = tf.constant([ [1,2],\n",
        "                  [3,4] ])"
      ],
      "execution_count": 0,
      "outputs": []
    },
    {
      "cell_type": "code",
      "metadata": {
        "id": "W4N1Ei_YJU7Q",
        "colab_type": "code",
        "outputId": "09d8ec3e-06c1-48f1-f284-4bc9e9be636f",
        "colab": {
          "base_uri": "https://localhost:8080/",
          "height": 34
        }
      },
      "source": [
        "a.shape"
      ],
      "execution_count": 0,
      "outputs": [
        {
          "output_type": "execute_result",
          "data": {
            "text/plain": [
              "TensorShape([Dimension(2), Dimension(2)])"
            ]
          },
          "metadata": {
            "tags": []
          },
          "execution_count": 22
        }
      ]
    },
    {
      "cell_type": "code",
      "metadata": {
        "id": "pFQPqTwwJV9A",
        "colab_type": "code",
        "outputId": "848e656b-6d9b-4933-9927-4b3134e232b5",
        "colab": {
          "base_uri": "https://localhost:8080/",
          "height": 34
        }
      },
      "source": [
        "b = tf.constant([[10],[100]])\n",
        "b.shape"
      ],
      "execution_count": 0,
      "outputs": [
        {
          "output_type": "execute_result",
          "data": {
            "text/plain": [
              "TensorShape([Dimension(2), Dimension(1)])"
            ]
          },
          "metadata": {
            "tags": []
          },
          "execution_count": 23
        }
      ]
    },
    {
      "cell_type": "code",
      "metadata": {
        "id": "FlQpAptCJcVk",
        "colab_type": "code",
        "colab": {}
      },
      "source": [
        "result = tf.matmul(a,b)"
      ],
      "execution_count": 0,
      "outputs": []
    },
    {
      "cell_type": "code",
      "metadata": {
        "id": "ESC8WXGKJgbW",
        "colab_type": "code",
        "outputId": "52c0245e-58c3-4a8d-bbc2-500c9991ff8f",
        "colab": {
          "base_uri": "https://localhost:8080/",
          "height": 51
        }
      },
      "source": [
        "result.eval()"
      ],
      "execution_count": 0,
      "outputs": [
        {
          "output_type": "execute_result",
          "data": {
            "text/plain": [
              "array([[210],\n",
              "       [430]], dtype=int32)"
            ]
          },
          "metadata": {
            "tags": []
          },
          "execution_count": 26
        }
      ]
    },
    {
      "cell_type": "code",
      "metadata": {
        "id": "GW-QMtvlJhYo",
        "colab_type": "code",
        "outputId": "8bc35a7d-a155-4f2a-acfc-e8f9eb1ce679",
        "colab": {
          "base_uri": "https://localhost:8080/",
          "height": 51
        }
      },
      "source": [
        "sess.run(result)"
      ],
      "execution_count": 0,
      "outputs": [
        {
          "output_type": "execute_result",
          "data": {
            "text/plain": [
              "array([[210],\n",
              "       [430]], dtype=int32)"
            ]
          },
          "metadata": {
            "tags": []
          },
          "execution_count": 27
        }
      ]
    },
    {
      "cell_type": "code",
      "metadata": {
        "id": "UG8UqyHYJ3yq",
        "colab_type": "code",
        "colab": {}
      },
      "source": [
        ""
      ],
      "execution_count": 0,
      "outputs": []
    }
  ]
}