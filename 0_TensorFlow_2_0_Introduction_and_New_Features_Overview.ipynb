{
  "nbformat": 4,
  "nbformat_minor": 0,
  "metadata": {
    "colab": {
      "name": "0. TensorFlow 2.0 Introduction and New Features Overview.ipynb",
      "provenance": [],
      "collapsed_sections": [],
      "include_colab_link": true
    },
    "kernelspec": {
      "name": "python3",
      "display_name": "Python 3"
    },
    "accelerator": "GPU"
  },
  "cells": [
    {
      "cell_type": "markdown",
      "metadata": {
        "id": "view-in-github",
        "colab_type": "text"
      },
      "source": [
        "<a href=\"https://colab.research.google.com/github/noircir/TensorFlow-Examples/blob/master/0_TensorFlow_2_0_Introduction_and_New_Features_Overview.ipynb\" target=\"_parent\"><img src=\"https://colab.research.google.com/assets/colab-badge.svg\" alt=\"Open In Colab\"/></a>"
      ]
    },
    {
      "cell_type": "markdown",
      "metadata": {
        "id": "rXbtGNrdc0Xp",
        "colab_type": "text"
      },
      "source": [
        "## Introduction to Tensorflow 2.0"
      ]
    },
    {
      "cell_type": "markdown",
      "metadata": {
        "id": "oBK8kuL2gy1E",
        "colab_type": "text"
      },
      "source": [
        "1. FEATURE #1 : EAGER EXECUTION BY DEFAULT\n",
        "2. FEATURE #2 : KERAS IS THE DEFAULT API (EASIER THAN EVER TO BUILD, TRAIN, AND DEBUG MODELS)\n",
        "3. FEATURE #3 : TENSORBOARD\n",
        "4. FEATURE #4 : DISTRIBUTED STRATEGY"
      ]
    },
    {
      "cell_type": "markdown",
      "metadata": {
        "id": "8kFXorTchVjS",
        "colab_type": "text"
      },
      "source": [
        "## FEATURE #1 : EAGER EXECUTION BY DEFAULT"
      ]
    },
    {
      "cell_type": "code",
      "metadata": {
        "id": "vAthizfLchp1",
        "colab_type": "code",
        "colab": {}
      },
      "source": [
        "!pip install tensorflow-gpu==2.0.0.alpha0"
      ],
      "execution_count": 0,
      "outputs": []
    },
    {
      "cell_type": "code",
      "metadata": {
        "id": "PLhSQiadco9P",
        "colab_type": "code",
        "colab": {
          "base_uri": "https://localhost:8080/",
          "height": 34
        },
        "outputId": "96bc8e17-2e08-4084-eea2-e5ac97d1f993"
      },
      "source": [
        "import tensorflow as tf\n",
        "x = tf.Variable(3)\n",
        "y = tf. Variable(5)\n",
        "z = tf.add(x,y)\n",
        "print(\"The sum of x and y is:\", z)"
      ],
      "execution_count": 3,
      "outputs": [
        {
          "output_type": "stream",
          "text": [
            "The sum of x and y is: tf.Tensor(8, shape=(), dtype=int32)\n"
          ],
          "name": "stdout"
        }
      ]
    },
    {
      "cell_type": "markdown",
      "metadata": {
        "id": "31iqpZSbjqwg",
        "colab_type": "text"
      },
      "source": [
        "## FEATURE #2 : KERAS IS THE DEFAULT API (EASIER THAN EVER TO BUILD, TRAIN, AND DEBUG MODELS)"
      ]
    },
    {
      "cell_type": "code",
      "metadata": {
        "id": "OsIPa0wUcpdL",
        "colab_type": "code",
        "colab": {}
      },
      "source": [
        "import tensorflow as tf\n",
        "fashion_mnist = tf.keras.datasets.fashion_mnist\n",
        "\n",
        "(train_images, train_labels), (test_images, test_labels) = fashion_mnist.load_data()"
      ],
      "execution_count": 0,
      "outputs": []
    },
    {
      "cell_type": "code",
      "metadata": {
        "id": "4TqYIKivcuew",
        "colab_type": "code",
        "colab": {}
      },
      "source": [
        "# Output (the last layer) is a classifier with 10 classes\n",
        "model = tf.keras.Sequential([\n",
        "                             tf.keras.layers.Flatten(input_shape=(28,28)),\n",
        "                             tf.keras.layers.Dense(128, activation=tf.nn.relu),\n",
        "                             tf.keras.layers.Dense(10, activation=tf.nn.softmax)\n",
        "])"
      ],
      "execution_count": 0,
      "outputs": []
    },
    {
      "cell_type": "code",
      "metadata": {
        "id": "8NDj0849cvUg",
        "colab_type": "code",
        "colab": {}
      },
      "source": [
        "model.compile(optimizer='adam',\n",
        "              loss='sparse_categorical_crossentropy',\n",
        "              metrics=['accuracy'])"
      ],
      "execution_count": 0,
      "outputs": []
    },
    {
      "cell_type": "code",
      "metadata": {
        "id": "8v5DM3s1l1ju",
        "colab_type": "code",
        "colab": {
          "base_uri": "https://localhost:8080/",
          "height": 204
        },
        "outputId": "2007f927-8397-4b81-de85-e1ecc1436db2"
      },
      "source": [
        "model.fit(train_images, train_labels, epochs=5)"
      ],
      "execution_count": 8,
      "outputs": [
        {
          "output_type": "stream",
          "text": [
            "Epoch 1/5\n",
            "60000/60000 [==============================] - 8s 134us/sample - loss: 3.0606 - accuracy: 0.6954\n",
            "Epoch 2/5\n",
            "60000/60000 [==============================] - 7s 121us/sample - loss: 0.6915 - accuracy: 0.7480\n",
            "Epoch 3/5\n",
            "60000/60000 [==============================] - 7s 124us/sample - loss: 0.5940 - accuracy: 0.7895\n",
            "Epoch 4/5\n",
            "60000/60000 [==============================] - 8s 129us/sample - loss: 0.5736 - accuracy: 0.8021\n",
            "Epoch 5/5\n",
            "60000/60000 [==============================] - 7s 122us/sample - loss: 0.5406 - accuracy: 0.8181\n"
          ],
          "name": "stdout"
        },
        {
          "output_type": "execute_result",
          "data": {
            "text/plain": [
              "<tensorflow.python.keras.callbacks.History at 0x7f2e97f9b7b8>"
            ]
          },
          "metadata": {
            "tags": []
          },
          "execution_count": 8
        }
      ]
    },
    {
      "cell_type": "code",
      "metadata": {
        "id": "H9y3Ahhnl9F_",
        "colab_type": "code",
        "colab": {}
      },
      "source": [
        ""
      ],
      "execution_count": 0,
      "outputs": []
    }
  ]
}