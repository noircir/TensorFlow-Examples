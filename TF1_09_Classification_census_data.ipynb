{
  "nbformat": 4,
  "nbformat_minor": 0,
  "metadata": {
    "kernelspec": {
      "display_name": "Python 3",
      "language": "python",
      "name": "python3"
    },
    "language_info": {
      "codemirror_mode": {
        "name": "ipython",
        "version": 3
      },
      "file_extension": ".py",
      "mimetype": "text/x-python",
      "name": "python",
      "nbconvert_exporter": "python",
      "pygments_lexer": "ipython3",
      "version": "3.5.4"
    },
    "colab": {
      "name": "TF1_09_Classification_census_data.ipynb",
      "provenance": [],
      "include_colab_link": true
    }
  },
  "cells": [
    {
      "cell_type": "markdown",
      "metadata": {
        "id": "view-in-github",
        "colab_type": "text"
      },
      "source": [
        "<a href=\"https://colab.research.google.com/github/noircir/TensorFlow-Examples/blob/master/TF1_09_Classification_census_data.ipynb\" target=\"_parent\"><img src=\"https://colab.research.google.com/assets/colab-badge.svg\" alt=\"Open In Colab\"/></a>"
      ]
    },
    {
      "cell_type": "markdown",
      "metadata": {
        "collapsed": true,
        "id": "CMeI3ITC4bRr",
        "colab_type": "text"
      },
      "source": [
        "# Classification Exercise - Solutions"
      ]
    },
    {
      "cell_type": "markdown",
      "metadata": {
        "id": "begWmEgx4bRy",
        "colab_type": "text"
      },
      "source": [
        "We'll be working with some California Census Data, we'll be trying to use various features of an individual to predict what class of income they belogn in (>50k or <=50k). \n",
        "\n",
        "Here is some information about the data:"
      ]
    },
    {
      "cell_type": "markdown",
      "metadata": {
        "id": "FNhiLVIj4bR3",
        "colab_type": "text"
      },
      "source": [
        "<table>\n",
        "<thead>\n",
        "<tr>\n",
        "<th>Column Name</th>\n",
        "<th>Type</th>\n",
        "<th>Description</th>\n",
        "</tr>\n",
        "</thead>\n",
        "<tbody>\n",
        "<tr>\n",
        "<td>age</td>\n",
        "<td>Continuous</td>\n",
        "<td>The age of the individual</td>\n",
        "</tr>\n",
        "<tr>\n",
        "<td>workclass</td>\n",
        "<td>Categorical</td>\n",
        "<td>The type of employer the  individual has (government,  military, private, etc.).</td>\n",
        "</tr>\n",
        "<tr>\n",
        "<td>fnlwgt</td>\n",
        "<td>Continuous</td>\n",
        "<td>The number of people the census  takers believe that observation  represents (sample weight). This  variable will not be used.</td>\n",
        "</tr>\n",
        "<tr>\n",
        "<td>education</td>\n",
        "<td>Categorical</td>\n",
        "<td>The highest level of education  achieved for that individual.</td>\n",
        "</tr>\n",
        "<tr>\n",
        "<td>education_num</td>\n",
        "<td>Continuous</td>\n",
        "<td>The highest level of education in  numerical form.</td>\n",
        "</tr>\n",
        "<tr>\n",
        "<td>marital_status</td>\n",
        "<td>Categorical</td>\n",
        "<td>Marital status of the individual.</td>\n",
        "</tr>\n",
        "<tr>\n",
        "<td>occupation</td>\n",
        "<td>Categorical</td>\n",
        "<td>The occupation of the individual.</td>\n",
        "</tr>\n",
        "<tr>\n",
        "<td>relationship</td>\n",
        "<td>Categorical</td>\n",
        "<td>Wife, Own-child, Husband,  Not-in-family, Other-relative,  Unmarried.</td>\n",
        "</tr>\n",
        "<tr>\n",
        "<td>race</td>\n",
        "<td>Categorical</td>\n",
        "<td>White, Asian-Pac-Islander,  Amer-Indian-Eskimo, Other, Black.</td>\n",
        "</tr>\n",
        "<tr>\n",
        "<td>gender</td>\n",
        "<td>Categorical</td>\n",
        "<td>Female, Male.</td>\n",
        "</tr>\n",
        "<tr>\n",
        "<td>capital_gain</td>\n",
        "<td>Continuous</td>\n",
        "<td>Capital gains recorded.</td>\n",
        "</tr>\n",
        "<tr>\n",
        "<td>capital_loss</td>\n",
        "<td>Continuous</td>\n",
        "<td>Capital Losses recorded.</td>\n",
        "</tr>\n",
        "<tr>\n",
        "<td>hours_per_week</td>\n",
        "<td>Continuous</td>\n",
        "<td>Hours worked per week.</td>\n",
        "</tr>\n",
        "<tr>\n",
        "<td>native_country</td>\n",
        "<td>Categorical</td>\n",
        "<td>Country of origin of the  individual.</td>\n",
        "</tr>\n",
        "<tr>\n",
        "<td>income</td>\n",
        "<td>Categorical</td>\n",
        "<td>\"&gt;50K\" or \"&lt;=50K\", meaning  whether the person makes more  than \\$50,000 annually.</td>\n",
        "</tr>\n",
        "</tbody>\n",
        "</table>"
      ]
    },
    {
      "cell_type": "markdown",
      "metadata": {
        "id": "q05uq8nf4bR9",
        "colab_type": "text"
      },
      "source": [
        "## Follow the Directions in Bold. If you get stuck, check out the solutions lecture."
      ]
    },
    {
      "cell_type": "markdown",
      "metadata": {
        "id": "OgAM11CY4bSC",
        "colab_type": "text"
      },
      "source": [
        "### THE DATA"
      ]
    },
    {
      "cell_type": "markdown",
      "metadata": {
        "id": "siAL2kW54bSH",
        "colab_type": "text"
      },
      "source": [
        "** Read in the census_data.csv data with pandas**"
      ]
    },
    {
      "cell_type": "code",
      "metadata": {
        "id": "Nw1SFJ_64bSS",
        "colab_type": "code",
        "colab": {}
      },
      "source": [
        "import pandas as pd"
      ],
      "execution_count": 0,
      "outputs": []
    },
    {
      "cell_type": "code",
      "metadata": {
        "id": "8MKIA5jz4bSi",
        "colab_type": "code",
        "colab": {}
      },
      "source": [
        "census = pd.read_csv(\"census_data.csv\")"
      ],
      "execution_count": 0,
      "outputs": []
    },
    {
      "cell_type": "code",
      "metadata": {
        "id": "Uy50VPWt4bSv",
        "colab_type": "code",
        "outputId": "10c579bb-1926-416a-ee41-dc3081da3ba0",
        "colab": {}
      },
      "source": [
        "census.head()"
      ],
      "execution_count": 0,
      "outputs": [
        {
          "output_type": "execute_result",
          "data": {
            "text/html": [
              "<div>\n",
              "<style>\n",
              "    .dataframe thead tr:only-child th {\n",
              "        text-align: right;\n",
              "    }\n",
              "\n",
              "    .dataframe thead th {\n",
              "        text-align: left;\n",
              "    }\n",
              "\n",
              "    .dataframe tbody tr th {\n",
              "        vertical-align: top;\n",
              "    }\n",
              "</style>\n",
              "<table border=\"1\" class=\"dataframe\">\n",
              "  <thead>\n",
              "    <tr style=\"text-align: right;\">\n",
              "      <th></th>\n",
              "      <th>age</th>\n",
              "      <th>workclass</th>\n",
              "      <th>education</th>\n",
              "      <th>education_num</th>\n",
              "      <th>marital_status</th>\n",
              "      <th>occupation</th>\n",
              "      <th>relationship</th>\n",
              "      <th>race</th>\n",
              "      <th>gender</th>\n",
              "      <th>capital_gain</th>\n",
              "      <th>capital_loss</th>\n",
              "      <th>hours_per_week</th>\n",
              "      <th>native_country</th>\n",
              "      <th>income_bracket</th>\n",
              "    </tr>\n",
              "  </thead>\n",
              "  <tbody>\n",
              "    <tr>\n",
              "      <th>0</th>\n",
              "      <td>39</td>\n",
              "      <td>State-gov</td>\n",
              "      <td>Bachelors</td>\n",
              "      <td>13</td>\n",
              "      <td>Never-married</td>\n",
              "      <td>Adm-clerical</td>\n",
              "      <td>Not-in-family</td>\n",
              "      <td>White</td>\n",
              "      <td>Male</td>\n",
              "      <td>2174</td>\n",
              "      <td>0</td>\n",
              "      <td>40</td>\n",
              "      <td>United-States</td>\n",
              "      <td>&lt;=50K</td>\n",
              "    </tr>\n",
              "    <tr>\n",
              "      <th>1</th>\n",
              "      <td>50</td>\n",
              "      <td>Self-emp-not-inc</td>\n",
              "      <td>Bachelors</td>\n",
              "      <td>13</td>\n",
              "      <td>Married-civ-spouse</td>\n",
              "      <td>Exec-managerial</td>\n",
              "      <td>Husband</td>\n",
              "      <td>White</td>\n",
              "      <td>Male</td>\n",
              "      <td>0</td>\n",
              "      <td>0</td>\n",
              "      <td>13</td>\n",
              "      <td>United-States</td>\n",
              "      <td>&lt;=50K</td>\n",
              "    </tr>\n",
              "    <tr>\n",
              "      <th>2</th>\n",
              "      <td>38</td>\n",
              "      <td>Private</td>\n",
              "      <td>HS-grad</td>\n",
              "      <td>9</td>\n",
              "      <td>Divorced</td>\n",
              "      <td>Handlers-cleaners</td>\n",
              "      <td>Not-in-family</td>\n",
              "      <td>White</td>\n",
              "      <td>Male</td>\n",
              "      <td>0</td>\n",
              "      <td>0</td>\n",
              "      <td>40</td>\n",
              "      <td>United-States</td>\n",
              "      <td>&lt;=50K</td>\n",
              "    </tr>\n",
              "    <tr>\n",
              "      <th>3</th>\n",
              "      <td>53</td>\n",
              "      <td>Private</td>\n",
              "      <td>11th</td>\n",
              "      <td>7</td>\n",
              "      <td>Married-civ-spouse</td>\n",
              "      <td>Handlers-cleaners</td>\n",
              "      <td>Husband</td>\n",
              "      <td>Black</td>\n",
              "      <td>Male</td>\n",
              "      <td>0</td>\n",
              "      <td>0</td>\n",
              "      <td>40</td>\n",
              "      <td>United-States</td>\n",
              "      <td>&lt;=50K</td>\n",
              "    </tr>\n",
              "    <tr>\n",
              "      <th>4</th>\n",
              "      <td>28</td>\n",
              "      <td>Private</td>\n",
              "      <td>Bachelors</td>\n",
              "      <td>13</td>\n",
              "      <td>Married-civ-spouse</td>\n",
              "      <td>Prof-specialty</td>\n",
              "      <td>Wife</td>\n",
              "      <td>Black</td>\n",
              "      <td>Female</td>\n",
              "      <td>0</td>\n",
              "      <td>0</td>\n",
              "      <td>40</td>\n",
              "      <td>Cuba</td>\n",
              "      <td>&lt;=50K</td>\n",
              "    </tr>\n",
              "  </tbody>\n",
              "</table>\n",
              "</div>"
            ],
            "text/plain": [
              "   age          workclass   education  education_num       marital_status  \\\n",
              "0   39          State-gov   Bachelors             13        Never-married   \n",
              "1   50   Self-emp-not-inc   Bachelors             13   Married-civ-spouse   \n",
              "2   38            Private     HS-grad              9             Divorced   \n",
              "3   53            Private        11th              7   Married-civ-spouse   \n",
              "4   28            Private   Bachelors             13   Married-civ-spouse   \n",
              "\n",
              "           occupation    relationship    race   gender  capital_gain  \\\n",
              "0        Adm-clerical   Not-in-family   White     Male          2174   \n",
              "1     Exec-managerial         Husband   White     Male             0   \n",
              "2   Handlers-cleaners   Not-in-family   White     Male             0   \n",
              "3   Handlers-cleaners         Husband   Black     Male             0   \n",
              "4      Prof-specialty            Wife   Black   Female             0   \n",
              "\n",
              "   capital_loss  hours_per_week  native_country income_bracket  \n",
              "0             0              40   United-States          <=50K  \n",
              "1             0              13   United-States          <=50K  \n",
              "2             0              40   United-States          <=50K  \n",
              "3             0              40   United-States          <=50K  \n",
              "4             0              40            Cuba          <=50K  "
            ]
          },
          "metadata": {
            "tags": []
          },
          "execution_count": 5
        }
      ]
    },
    {
      "cell_type": "markdown",
      "metadata": {
        "id": "DK4gbW1K4bTC",
        "colab_type": "text"
      },
      "source": [
        "** TensorFlow won't be able to understand strings as labels, you'll need to use pandas .apply() method to apply a custom function that converts them to 0s and 1s. This might be hard if you aren't very familiar with pandas, so feel free to take a peek at the solutions for this part.**\n",
        "\n",
        "** Convert the Label column to 0s and 1s instead of strings.**"
      ]
    },
    {
      "cell_type": "code",
      "metadata": {
        "id": "QN9Nclaa4bTH",
        "colab_type": "code",
        "outputId": "3b4176fc-f8aa-4da8-fd2c-a83d80b05f99",
        "colab": {}
      },
      "source": [
        "census['income_bracket'].unique()"
      ],
      "execution_count": 0,
      "outputs": [
        {
          "output_type": "execute_result",
          "data": {
            "text/plain": [
              "array([' <=50K', ' >50K'], dtype=object)"
            ]
          },
          "metadata": {
            "tags": []
          },
          "execution_count": 6
        }
      ]
    },
    {
      "cell_type": "code",
      "metadata": {
        "id": "cRgETGqN4bTV",
        "colab_type": "code",
        "colab": {}
      },
      "source": [
        "def label_fix(label):\n",
        "    if label==' <=50K':\n",
        "        return 0\n",
        "    else:\n",
        "        return 1"
      ],
      "execution_count": 0,
      "outputs": []
    },
    {
      "cell_type": "code",
      "metadata": {
        "id": "Mbq9fhy_4bTi",
        "colab_type": "code",
        "colab": {}
      },
      "source": [
        "census['income_bracket'] = census['income_bracket'].apply(label_fix)"
      ],
      "execution_count": 0,
      "outputs": []
    },
    {
      "cell_type": "code",
      "metadata": {
        "id": "fEWHb6694bTu",
        "colab_type": "code",
        "colab": {}
      },
      "source": [
        "# Cool Alternative\n",
        "# lambda label:int(label==' <=50k')\n",
        "\n",
        "# census['income_bracket'].apply(lambda label: int(label==' <=50K'))"
      ],
      "execution_count": 0,
      "outputs": []
    },
    {
      "cell_type": "markdown",
      "metadata": {
        "id": "MCCeicTJ4bUC",
        "colab_type": "text"
      },
      "source": [
        "### Perform a Train Test Split on the Data"
      ]
    },
    {
      "cell_type": "code",
      "metadata": {
        "id": "7GDBly9S4bUF",
        "colab_type": "code",
        "colab": {}
      },
      "source": [
        "from sklearn.model_selection import train_test_split"
      ],
      "execution_count": 0,
      "outputs": []
    },
    {
      "cell_type": "code",
      "metadata": {
        "id": "cfTE890X4bUT",
        "colab_type": "code",
        "colab": {}
      },
      "source": [
        "x_data = census.drop('income_bracket',axis=1)\n",
        "y_labels = census['income_bracket']\n",
        "X_train, X_test, y_train, y_test = train_test_split(x_data,y_labels,test_size=0.3,random_state=101)"
      ],
      "execution_count": 0,
      "outputs": []
    },
    {
      "cell_type": "markdown",
      "metadata": {
        "id": "i1jgJJPi4bUg",
        "colab_type": "text"
      },
      "source": [
        "### Create the Feature Columns for tf.esitmator\n",
        "\n",
        "** Take note of categorical vs continuous values! **"
      ]
    },
    {
      "cell_type": "code",
      "metadata": {
        "id": "fUBL44NP4bUk",
        "colab_type": "code",
        "outputId": "fa85b013-aac9-438f-87c8-4d751c207ea2",
        "colab": {}
      },
      "source": [
        "census.columns"
      ],
      "execution_count": 0,
      "outputs": [
        {
          "output_type": "execute_result",
          "data": {
            "text/plain": [
              "Index(['age', 'workclass', 'education', 'education_num', 'marital_status',\n",
              "       'occupation', 'relationship', 'race', 'gender', 'capital_gain',\n",
              "       'capital_loss', 'hours_per_week', 'native_country', 'income_bracket'],\n",
              "      dtype='object')"
            ]
          },
          "metadata": {
            "tags": []
          },
          "execution_count": 13
        }
      ]
    },
    {
      "cell_type": "markdown",
      "metadata": {
        "id": "5OqvmnQS4bU2",
        "colab_type": "text"
      },
      "source": [
        "** Import Tensorflow **"
      ]
    },
    {
      "cell_type": "code",
      "metadata": {
        "id": "QKZ6K1f04bU6",
        "colab_type": "code",
        "colab": {}
      },
      "source": [
        "import tensorflow as tf"
      ],
      "execution_count": 0,
      "outputs": []
    },
    {
      "cell_type": "markdown",
      "metadata": {
        "collapsed": true,
        "id": "Fv-KODyQ4bVG",
        "colab_type": "text"
      },
      "source": [
        "** Create the tf.feature_columns for the categorical values. Use vocabulary lists or just use hash buckets. **"
      ]
    },
    {
      "cell_type": "code",
      "metadata": {
        "id": "vJQIrGMR4bVH",
        "colab_type": "code",
        "colab": {}
      },
      "source": [
        "gender = tf.feature_column.categorical_column_with_vocabulary_list(\"gender\", [\"Female\", \"Male\"])\n",
        "occupation = tf.feature_column.categorical_column_with_hash_bucket(\"occupation\", hash_bucket_size=1000)\n",
        "marital_status = tf.feature_column.categorical_column_with_hash_bucket(\"marital_status\", hash_bucket_size=1000)\n",
        "relationship = tf.feature_column.categorical_column_with_hash_bucket(\"relationship\", hash_bucket_size=1000)\n",
        "education = tf.feature_column.categorical_column_with_hash_bucket(\"education\", hash_bucket_size=1000)\n",
        "workclass = tf.feature_column.categorical_column_with_hash_bucket(\"workclass\", hash_bucket_size=1000)\n",
        "native_country = tf.feature_column.categorical_column_with_hash_bucket(\"native_country\", hash_bucket_size=1000)"
      ],
      "execution_count": 0,
      "outputs": []
    },
    {
      "cell_type": "markdown",
      "metadata": {
        "id": "BPXoo0Sl4bYq",
        "colab_type": "text"
      },
      "source": [
        "** Create the continuous feature_columns for the continuous values using numeric_column **"
      ]
    },
    {
      "cell_type": "code",
      "metadata": {
        "id": "JU77dzZq4bYs",
        "colab_type": "code",
        "colab": {}
      },
      "source": [
        "age = tf.feature_column.numeric_column(\"age\")\n",
        "education_num = tf.feature_column.numeric_column(\"education_num\")\n",
        "capital_gain = tf.feature_column.numeric_column(\"capital_gain\")\n",
        "capital_loss = tf.feature_column.numeric_column(\"capital_loss\")\n",
        "hours_per_week = tf.feature_column.numeric_column(\"hours_per_week\")"
      ],
      "execution_count": 0,
      "outputs": []
    },
    {
      "cell_type": "markdown",
      "metadata": {
        "id": "uqQshKKj4bYy",
        "colab_type": "text"
      },
      "source": [
        "** Put all these variables into a single list with the variable name feat_cols **"
      ]
    },
    {
      "cell_type": "code",
      "metadata": {
        "id": "IaWYk6Up4bYy",
        "colab_type": "code",
        "colab": {}
      },
      "source": [
        "feat_cols = [gender,occupation,marital_status,relationship,education,workclass,native_country,\n",
        "            age,education_num,capital_gain,capital_loss,hours_per_week]"
      ],
      "execution_count": 0,
      "outputs": []
    },
    {
      "cell_type": "markdown",
      "metadata": {
        "id": "SUkl_E2j4bY1",
        "colab_type": "text"
      },
      "source": [
        "### Create Input Function\n",
        "\n",
        "** Batch_size is up to you. But do make sure to shuffle!**"
      ]
    },
    {
      "cell_type": "code",
      "metadata": {
        "id": "nmnd32E14bY2",
        "colab_type": "code",
        "colab": {}
      },
      "source": [
        "input_func=tf.estimator.inputs.pandas_input_fn(x=X_train,y=y_train,batch_size=100,num_epochs=None,shuffle=True)"
      ],
      "execution_count": 0,
      "outputs": []
    },
    {
      "cell_type": "markdown",
      "metadata": {
        "id": "YpqBK-qy4bY4",
        "colab_type": "text"
      },
      "source": [
        "#### Create your model with tf.estimator\n",
        "\n",
        "**Create a LinearClassifier.(If you want to use a DNNClassifier, keep in mind you'll need to create embedded columns out of the cateogrical feature that use strings, check out the previous lecture on this for more info.)**"
      ]
    },
    {
      "cell_type": "code",
      "metadata": {
        "id": "jy4Kxs-n4bY5",
        "colab_type": "code",
        "outputId": "b41bf418-e80b-40bd-a791-eb9b51773bf9",
        "colab": {}
      },
      "source": [
        "model = tf.estimator.LinearClassifier(feature_columns=feat_cols)"
      ],
      "execution_count": 0,
      "outputs": [
        {
          "output_type": "stream",
          "text": [
            "INFO:tensorflow:Using default config.\n",
            "WARNING:tensorflow:Using temporary folder as model directory: C:\\Users\\Marcial\\AppData\\Local\\Temp\\tmpyyyqnxgv\n",
            "INFO:tensorflow:Using config: {'_save_checkpoints_steps': None, '_keep_checkpoint_every_n_hours': 10000, '_session_config': None, '_save_checkpoints_secs': 600, '_model_dir': 'C:\\\\Users\\\\Marcial\\\\AppData\\\\Local\\\\Temp\\\\tmpyyyqnxgv', '_keep_checkpoint_max': 5, '_log_step_count_steps': 100, '_save_summary_steps': 100, '_tf_random_seed': 1}\n"
          ],
          "name": "stdout"
        }
      ]
    },
    {
      "cell_type": "markdown",
      "metadata": {
        "id": "V-ZALw8b4bZB",
        "colab_type": "text"
      },
      "source": [
        "** Train your model on the data, for at least 5000 steps. **"
      ]
    },
    {
      "cell_type": "code",
      "metadata": {
        "id": "fyiP3hhX4bZD",
        "colab_type": "code",
        "colab": {}
      },
      "source": [
        "model.train(input_fn=input_func,steps=5000)"
      ],
      "execution_count": 0,
      "outputs": []
    },
    {
      "cell_type": "markdown",
      "metadata": {
        "id": "I2mQ1Wbl4bZF",
        "colab_type": "text"
      },
      "source": [
        "### Evaluation\n",
        "\n",
        "** Create a prediction input function. Remember to only supprt X_test data and keep shuffle=False. **"
      ]
    },
    {
      "cell_type": "code",
      "metadata": {
        "id": "Vp8gHioI4bZG",
        "colab_type": "code",
        "colab": {}
      },
      "source": [
        "pred_fn = tf.estimator.inputs.pandas_input_fn(x=X_test,batch_size=len(X_test),shuffle=False)"
      ],
      "execution_count": 0,
      "outputs": []
    },
    {
      "cell_type": "markdown",
      "metadata": {
        "id": "11FTwjLN4bZI",
        "colab_type": "text"
      },
      "source": [
        "** Use model.predict() and pass in your input function. This will produce a generator of predictions, which you can then transform into a list, with list() **"
      ]
    },
    {
      "cell_type": "code",
      "metadata": {
        "id": "nslgkjL-4bZJ",
        "colab_type": "code",
        "outputId": "f0749169-1c02-4315-9c00-60d0e6f1bf81",
        "colab": {}
      },
      "source": [
        "predictions = list(model.predict(input_fn=pred_fn))"
      ],
      "execution_count": 0,
      "outputs": [
        {
          "output_type": "stream",
          "text": [
            "INFO:tensorflow:Restoring parameters from C:\\Users\\Marcial\\AppData\\Local\\Temp\\tmpyyyqnxgv\\model.ckpt-5000\n"
          ],
          "name": "stdout"
        }
      ]
    },
    {
      "cell_type": "markdown",
      "metadata": {
        "id": "6aR6fAte4bZO",
        "colab_type": "text"
      },
      "source": [
        "** Each item in your list will look like this: **"
      ]
    },
    {
      "cell_type": "code",
      "metadata": {
        "id": "XFA7M6Mq4bZO",
        "colab_type": "code",
        "outputId": "b94660dc-2900-485c-b836-76accf0d226d",
        "colab": {}
      },
      "source": [
        "predictions[0]"
      ],
      "execution_count": 0,
      "outputs": [
        {
          "output_type": "execute_result",
          "data": {
            "text/plain": [
              "{'class_ids': array([0], dtype=int64),\n",
              " 'classes': array([b'0'], dtype=object),\n",
              " 'logistic': array([ 0.21327116], dtype=float32),\n",
              " 'logits': array([-1.30531931], dtype=float32),\n",
              " 'probabilities': array([ 0.78672886,  0.21327116], dtype=float32)}"
            ]
          },
          "metadata": {
            "tags": []
          },
          "execution_count": 27
        }
      ]
    },
    {
      "cell_type": "markdown",
      "metadata": {
        "id": "LA9eTJNb4bZR",
        "colab_type": "text"
      },
      "source": [
        "** Create a list of only the class_ids key values from the prediction list of dictionaries, these are the predictions you will use to compare against the real y_test values. **"
      ]
    },
    {
      "cell_type": "code",
      "metadata": {
        "id": "HrIloMyO4bZS",
        "colab_type": "code",
        "colab": {}
      },
      "source": [
        "final_preds = []\n",
        "for pred in predictions:\n",
        "    final_preds.append(pred['class_ids'][0])"
      ],
      "execution_count": 0,
      "outputs": []
    },
    {
      "cell_type": "code",
      "metadata": {
        "id": "oaWHNQAa4bZW",
        "colab_type": "code",
        "outputId": "11004ef3-1395-4d56-e543-1aba706a516c",
        "colab": {}
      },
      "source": [
        "final_preds[:10]"
      ],
      "execution_count": 0,
      "outputs": [
        {
          "output_type": "execute_result",
          "data": {
            "text/plain": [
              "[0, 0, 0, 0, 1, 0, 0, 0, 0, 0]"
            ]
          },
          "metadata": {
            "tags": []
          },
          "execution_count": 30
        }
      ]
    },
    {
      "cell_type": "markdown",
      "metadata": {
        "id": "XCE9zoFB4bZZ",
        "colab_type": "text"
      },
      "source": [
        "** Import classification_report from sklearn.metrics and then see if you can figure out how to use it to easily get a full report of your model's performance on the test data. **"
      ]
    },
    {
      "cell_type": "code",
      "metadata": {
        "id": "jRMjQPT54bZa",
        "colab_type": "code",
        "colab": {}
      },
      "source": [
        "from sklearn.metrics import classification_report"
      ],
      "execution_count": 0,
      "outputs": []
    },
    {
      "cell_type": "code",
      "metadata": {
        "id": "itXEeaXt4bZf",
        "colab_type": "code",
        "outputId": "052c73a1-55de-4b67-d718-5e71ac9edcb6",
        "colab": {}
      },
      "source": [
        "print(classification_report(y_test,final_preds))"
      ],
      "execution_count": 0,
      "outputs": [
        {
          "output_type": "stream",
          "text": [
            "             precision    recall  f1-score   support\n",
            "\n",
            "          0       0.88      0.92      0.90      7436\n",
            "          1       0.70      0.59      0.64      2333\n",
            "\n",
            "avg / total       0.84      0.84      0.84      9769\n",
            "\n"
          ],
          "name": "stdout"
        }
      ]
    }
  ]
}