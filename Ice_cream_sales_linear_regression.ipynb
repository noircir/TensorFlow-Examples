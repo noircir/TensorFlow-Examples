{
  "nbformat": 4,
  "nbformat_minor": 0,
  "metadata": {
    "colab": {
      "name": "Ice-cream-sales-linear-regression.ipynb",
      "provenance": [],
      "collapsed_sections": [],
      "include_colab_link": true
    },
    "kernelspec": {
      "name": "python3",
      "display_name": "Python 3"
    }
  },
  "cells": [
    {
      "cell_type": "markdown",
      "metadata": {
        "id": "view-in-github",
        "colab_type": "text"
      },
      "source": [
        "<a href=\"https://colab.research.google.com/github/noircir/TensorFlow-Examples/blob/master/Ice_cream_sales_linear_regression.ipynb\" target=\"_parent\"><img src=\"https://colab.research.google.com/assets/colab-badge.svg\" alt=\"Open In Colab\"/></a>"
      ]
    },
    {
      "cell_type": "code",
      "metadata": {
        "id": "WoVkPDtTakiR",
        "colab_type": "code",
        "colab": {}
      },
      "source": [
        "!pip install tensorflow-gpu==2.0.0.alpha0"
      ],
      "execution_count": 0,
      "outputs": []
    },
    {
      "cell_type": "code",
      "metadata": {
        "id": "yhb-DLLYanUE",
        "colab_type": "code",
        "colab": {}
      },
      "source": [
        "from google.colab import drive\n",
        "drive.mount('/content/drive')"
      ],
      "execution_count": 0,
      "outputs": []
    },
    {
      "cell_type": "code",
      "metadata": {
        "id": "vPeIUhP-cizS",
        "colab_type": "code",
        "colab": {}
      },
      "source": [
        "from __future__ import absolute_import, division, print_function, unicode_literals\n",
        "\n",
        "import tensorflow as tf\n",
        "import seaborn as sns\n",
        "import numpy as np\n",
        "import pandas as pd\n",
        "import matplotlib.pyplot as plt"
      ],
      "execution_count": 0,
      "outputs": []
    },
    {
      "cell_type": "code",
      "metadata": {
        "id": "59k3-JhcctTh",
        "colab_type": "code",
        "colab": {}
      },
      "source": [
        "df = pd.read_csv('/content/drive/My Drive/Colab Notebooks/Tensorflow 2.0 Examples/Project 2 Ice cream sales depending on temperature/SalesData.csv')"
      ],
      "execution_count": 0,
      "outputs": []
    },
    {
      "cell_type": "code",
      "metadata": {
        "id": "FSpko8Gyc0tB",
        "colab_type": "code",
        "colab": {
          "base_uri": "https://localhost:8080/",
          "height": 204
        },
        "outputId": "f048cb8c-64fb-4052-e65a-c64a8a8a2c18"
      },
      "source": [
        "df.head()"
      ],
      "execution_count": 99,
      "outputs": [
        {
          "output_type": "execute_result",
          "data": {
            "text/html": [
              "<div>\n",
              "<style scoped>\n",
              "    .dataframe tbody tr th:only-of-type {\n",
              "        vertical-align: middle;\n",
              "    }\n",
              "\n",
              "    .dataframe tbody tr th {\n",
              "        vertical-align: top;\n",
              "    }\n",
              "\n",
              "    .dataframe thead th {\n",
              "        text-align: right;\n",
              "    }\n",
              "</style>\n",
              "<table border=\"1\" class=\"dataframe\">\n",
              "  <thead>\n",
              "    <tr style=\"text-align: right;\">\n",
              "      <th></th>\n",
              "      <th>Temperature</th>\n",
              "      <th>Revenue</th>\n",
              "    </tr>\n",
              "  </thead>\n",
              "  <tbody>\n",
              "    <tr>\n",
              "      <th>0</th>\n",
              "      <td>24.566884</td>\n",
              "      <td>534.799028</td>\n",
              "    </tr>\n",
              "    <tr>\n",
              "      <th>1</th>\n",
              "      <td>26.005191</td>\n",
              "      <td>625.190122</td>\n",
              "    </tr>\n",
              "    <tr>\n",
              "      <th>2</th>\n",
              "      <td>27.790554</td>\n",
              "      <td>660.632289</td>\n",
              "    </tr>\n",
              "    <tr>\n",
              "      <th>3</th>\n",
              "      <td>20.595335</td>\n",
              "      <td>487.706960</td>\n",
              "    </tr>\n",
              "    <tr>\n",
              "      <th>4</th>\n",
              "      <td>11.503498</td>\n",
              "      <td>316.240194</td>\n",
              "    </tr>\n",
              "  </tbody>\n",
              "</table>\n",
              "</div>"
            ],
            "text/plain": [
              "   Temperature     Revenue\n",
              "0    24.566884  534.799028\n",
              "1    26.005191  625.190122\n",
              "2    27.790554  660.632289\n",
              "3    20.595335  487.706960\n",
              "4    11.503498  316.240194"
            ]
          },
          "metadata": {
            "tags": []
          },
          "execution_count": 99
        }
      ]
    },
    {
      "cell_type": "code",
      "metadata": {
        "id": "BHFfqgDvc2-Z",
        "colab_type": "code",
        "colab": {
          "base_uri": "https://localhost:8080/",
          "height": 136
        },
        "outputId": "4e76b1c6-6007-481b-f7a2-91b040f787b6"
      },
      "source": [
        "df.info()"
      ],
      "execution_count": 100,
      "outputs": [
        {
          "output_type": "stream",
          "text": [
            "<class 'pandas.core.frame.DataFrame'>\n",
            "RangeIndex: 500 entries, 0 to 499\n",
            "Data columns (total 2 columns):\n",
            "Temperature    500 non-null float64\n",
            "Revenue        500 non-null float64\n",
            "dtypes: float64(2)\n",
            "memory usage: 7.9 KB\n"
          ],
          "name": "stdout"
        }
      ]
    },
    {
      "cell_type": "code",
      "metadata": {
        "id": "y-XAjqqQc417",
        "colab_type": "code",
        "colab": {
          "base_uri": "https://localhost:8080/",
          "height": 297
        },
        "outputId": "ffd76838-c7d4-4dc5-868b-6a41a152f8e7"
      },
      "source": [
        "df.describe()"
      ],
      "execution_count": 41,
      "outputs": [
        {
          "output_type": "execute_result",
          "data": {
            "text/html": [
              "<div>\n",
              "<style scoped>\n",
              "    .dataframe tbody tr th:only-of-type {\n",
              "        vertical-align: middle;\n",
              "    }\n",
              "\n",
              "    .dataframe tbody tr th {\n",
              "        vertical-align: top;\n",
              "    }\n",
              "\n",
              "    .dataframe thead th {\n",
              "        text-align: right;\n",
              "    }\n",
              "</style>\n",
              "<table border=\"1\" class=\"dataframe\">\n",
              "  <thead>\n",
              "    <tr style=\"text-align: right;\">\n",
              "      <th></th>\n",
              "      <th>Temperature</th>\n",
              "      <th>Revenue</th>\n",
              "    </tr>\n",
              "  </thead>\n",
              "  <tbody>\n",
              "    <tr>\n",
              "      <th>count</th>\n",
              "      <td>500.000000</td>\n",
              "      <td>500.000000</td>\n",
              "    </tr>\n",
              "    <tr>\n",
              "      <th>mean</th>\n",
              "      <td>22.232225</td>\n",
              "      <td>521.570777</td>\n",
              "    </tr>\n",
              "    <tr>\n",
              "      <th>std</th>\n",
              "      <td>8.096388</td>\n",
              "      <td>175.404751</td>\n",
              "    </tr>\n",
              "    <tr>\n",
              "      <th>min</th>\n",
              "      <td>0.000000</td>\n",
              "      <td>10.000000</td>\n",
              "    </tr>\n",
              "    <tr>\n",
              "      <th>25%</th>\n",
              "      <td>17.122258</td>\n",
              "      <td>405.558681</td>\n",
              "    </tr>\n",
              "    <tr>\n",
              "      <th>50%</th>\n",
              "      <td>22.392791</td>\n",
              "      <td>529.368565</td>\n",
              "    </tr>\n",
              "    <tr>\n",
              "      <th>75%</th>\n",
              "      <td>27.740674</td>\n",
              "      <td>642.257922</td>\n",
              "    </tr>\n",
              "    <tr>\n",
              "      <th>max</th>\n",
              "      <td>45.000000</td>\n",
              "      <td>1000.000000</td>\n",
              "    </tr>\n",
              "  </tbody>\n",
              "</table>\n",
              "</div>"
            ],
            "text/plain": [
              "       Temperature      Revenue\n",
              "count   500.000000   500.000000\n",
              "mean     22.232225   521.570777\n",
              "std       8.096388   175.404751\n",
              "min       0.000000    10.000000\n",
              "25%      17.122258   405.558681\n",
              "50%      22.392791   529.368565\n",
              "75%      27.740674   642.257922\n",
              "max      45.000000  1000.000000"
            ]
          },
          "metadata": {
            "tags": []
          },
          "execution_count": 41
        }
      ]
    },
    {
      "cell_type": "code",
      "metadata": {
        "id": "SLmMNjfzc6eB",
        "colab_type": "code",
        "colab": {
          "base_uri": "https://localhost:8080/",
          "height": 34
        },
        "outputId": "7eb3d04c-6561-4587-c1b5-99bd3467ac5c"
      },
      "source": [
        "df.shape"
      ],
      "execution_count": 42,
      "outputs": [
        {
          "output_type": "execute_result",
          "data": {
            "text/plain": [
              "(500, 2)"
            ]
          },
          "metadata": {
            "tags": []
          },
          "execution_count": 42
        }
      ]
    },
    {
      "cell_type": "code",
      "metadata": {
        "id": "CJsfOxB9c_0k",
        "colab_type": "code",
        "colab": {
          "base_uri": "https://localhost:8080/",
          "height": 296
        },
        "outputId": "5def4e18-740a-44c0-e2ca-8ba9752ea407"
      },
      "source": [
        "sns.scatterplot(df['Temperature'], df['Revenue'])"
      ],
      "execution_count": 43,
      "outputs": [
        {
          "output_type": "execute_result",
          "data": {
            "text/plain": [
              "<matplotlib.axes._subplots.AxesSubplot at 0x7f4fbeaee630>"
            ]
          },
          "metadata": {
            "tags": []
          },
          "execution_count": 43
        },
        {
          "output_type": "display_data",
          "data": {
            "image/png": "[encoded data removed]",
            "text/plain": [
              "<Figure size 432x288 with 1 Axes>"
            ]
          },
          "metadata": {
            "tags": []
          }
        }
      ]
    },
    {
      "cell_type": "code",
      "metadata": {
        "id": "Z676c3nid0rz",
        "colab_type": "code",
        "colab": {
          "base_uri": "https://localhost:8080/",
          "height": 34
        },
        "outputId": "ad64e6a2-a4e1-4d67-f127-0c79a581154c"
      },
      "source": [
        "X_train = df['Temperature']\n",
        "y_train = df['Revenue']\n",
        "print(X_train.shape, y_train.shape)"
      ],
      "execution_count": 101,
      "outputs": [
        {
          "output_type": "stream",
          "text": [
            "(500,) (500,)\n"
          ],
          "name": "stdout"
        }
      ]
    },
    {
      "cell_type": "code",
      "metadata": {
        "id": "LHO2VnImeBMB",
        "colab_type": "code",
        "colab": {}
      },
      "source": [
        "# create a model with no hidden layers: one input layer X, and one output layer y.\n",
        "model = tf.keras.Sequential()\n",
        "model.add(tf.keras.layers.Dense(units=1, input_shape=[1])) # one weight and one bias\n",
        "\n",
        "# This is the case of 1 intermediate layer of 10 units: \n",
        "#model.add(tf.keras.layers.Dense(units=10, input_shape=[1])) # one weight and one bias\n",
        "#model.add(tf.keras.layers.Dense(units=1))"
      ],
      "execution_count": 0,
      "outputs": []
    },
    {
      "cell_type": "code",
      "metadata": {
        "id": "KLVYb9dmeH-g",
        "colab_type": "code",
        "colab": {
          "base_uri": "https://localhost:8080/",
          "height": 187
        },
        "outputId": "74a2c9c0-b6a5-47cd-ab70-bde9b7b76da9"
      },
      "source": [
        "# visualize the model : One neuron is connected to 10 neuron weights with 10 biases = 20; \n",
        "# then these 10 neurons are connected with 1 output layer with 1 bias = 11\n",
        "model.summary()"
      ],
      "execution_count": 103,
      "outputs": [
        {
          "output_type": "stream",
          "text": [
            "Model: \"sequential_7\"\n",
            "_________________________________________________________________\n",
            "Layer (type)                 Output Shape              Param #   \n",
            "=================================================================\n",
            "dense_10 (Dense)             (None, 1)                 2         \n",
            "=================================================================\n",
            "Total params: 2\n",
            "Trainable params: 2\n",
            "Non-trainable params: 0\n",
            "_________________________________________________________________\n"
          ],
          "name": "stdout"
        }
      ]
    },
    {
      "cell_type": "code",
      "metadata": {
        "id": "B9pfsQb7eMhf",
        "colab_type": "code",
        "colab": {}
      },
      "source": [
        "# specify an optimizer type with a learning rate\n",
        "model.compile(optimizer=tf.keras.optimizers.Adam(0.5), loss='mean_squared_error')"
      ],
      "execution_count": 0,
      "outputs": []
    },
    {
      "cell_type": "code",
      "metadata": {
        "id": "wQFvIWT9ec_x",
        "colab_type": "code",
        "colab": {}
      },
      "source": [
        "epochs_history = model.fit(X_train, y_train, epochs=500)"
      ],
      "execution_count": 0,
      "outputs": []
    },
    {
      "cell_type": "code",
      "metadata": {
        "id": "u4-7RvtiegoZ",
        "colab_type": "code",
        "colab": {
          "base_uri": "https://localhost:8080/",
          "height": 34
        },
        "outputId": "6c892d22-aecd-40fd-ef89-585c3a0d9284"
      },
      "source": [
        "epochs_history.history.keys()"
      ],
      "execution_count": 106,
      "outputs": [
        {
          "output_type": "execute_result",
          "data": {
            "text/plain": [
              "dict_keys(['loss'])"
            ]
          },
          "metadata": {
            "tags": []
          },
          "execution_count": 106
        }
      ]
    },
    {
      "cell_type": "code",
      "metadata": {
        "id": "LmNaeQQ3elDz",
        "colab_type": "code",
        "colab": {
          "base_uri": "https://localhost:8080/",
          "height": 170
        },
        "outputId": "99607835-11b7-43a8-f4d5-c3b19906a889"
      },
      "source": [
        "epochs_history.history['loss'][1:10]"
      ],
      "execution_count": 107,
      "outputs": [
        {
          "output_type": "execute_result",
          "data": {
            "text/plain": [
              "[75511.34103125,\n",
              " 17940.6329296875,\n",
              " 2321.6261083984373,\n",
              " 714.9568579101563,\n",
              " 747.69931640625,\n",
              " 700.85233203125,\n",
              " 683.54265234375,\n",
              " 681.1938681640625,\n",
              " 680.932908203125]"
            ]
          },
          "metadata": {
            "tags": []
          },
          "execution_count": 107
        }
      ]
    },
    {
      "cell_type": "code",
      "metadata": {
        "id": "PYdn6J4Lep95",
        "colab_type": "code",
        "colab": {
          "base_uri": "https://localhost:8080/",
          "height": 421
        },
        "outputId": "664d9506-2d26-42ba-c875-5a040ef70bc7"
      },
      "source": [
        "# Very simple NN, no activation function, => not very successful\n",
        "plt.figure(figsize=(10,6))\n",
        "plt.plot(epochs_history.history['loss'])\n",
        "plt.title('Model Loss Progress During Training')\n",
        "plt.xlabel('Epochs')\n",
        "\n",
        "plt.ylabel('Training Loss')"
      ],
      "execution_count": 108,
      "outputs": [
        {
          "output_type": "execute_result",
          "data": {
            "text/plain": [
              "Text(0, 0.5, 'Training Loss')"
            ]
          },
          "metadata": {
            "tags": []
          },
          "execution_count": 108
        },
        {
          "output_type": "display_data",
          "data": {
            "image/png": "[encoded data removed]",
            "text/plain": [
              "<Figure size 720x432 with 1 Axes>"
            ]
          },
          "metadata": {
            "tags": []
          }
        }
      ]
    },
    {
      "cell_type": "code",
      "metadata": {
        "id": "VjRyA4M2vzhX",
        "colab_type": "code",
        "colab": {}
      },
      "source": [
        "# 1st layer: 10 weights, 10 biases\n",
        "# 2nd layer: 10 weights, 1 bias\n",
        "(slope, intercept) = model.get_weights()"
      ],
      "execution_count": 0,
      "outputs": []
    },
    {
      "cell_type": "code",
      "metadata": {
        "id": "gNPRcOWIxb1L",
        "colab_type": "code",
        "colab": {
          "base_uri": "https://localhost:8080/",
          "height": 136
        },
        "outputId": "9be154e7-5f29-4268-d13b-1479b627360c"
      },
      "source": [
        "model.history.params"
      ],
      "execution_count": 84,
      "outputs": [
        {
          "output_type": "execute_result",
          "data": {
            "text/plain": [
              "{'batch_size': 32,\n",
              " 'do_validation': False,\n",
              " 'epochs': 1000,\n",
              " 'metrics': ['loss'],\n",
              " 'samples': 500,\n",
              " 'steps': None,\n",
              " 'verbose': 1}"
            ]
          },
          "metadata": {
            "tags": []
          },
          "execution_count": 84
        }
      ]
    },
    {
      "cell_type": "code",
      "metadata": {
        "id": "K45wPCao0Bsy",
        "colab_type": "code",
        "colab": {
          "base_uri": "https://localhost:8080/",
          "height": 34
        },
        "outputId": "f53b4430-cfdf-49b3-f76d-10056b9b7b86"
      },
      "source": [
        "# use the trained model to perform predictions\n",
        "\n",
        "Temp = 40\n",
        "Revenue = model.predict([Temp])\n",
        "print(\"Revenue prediction using trained ANN = \", Revenue)"
      ],
      "execution_count": 110,
      "outputs": [
        {
          "output_type": "stream",
          "text": [
            "Revenue prediction using trained ANN =  [[913.5998]]\n"
          ],
          "name": "stdout"
        }
      ]
    },
    {
      "cell_type": "code",
      "metadata": {
        "id": "Xkz1ryNo0Bbi",
        "colab_type": "code",
        "colab": {
          "base_uri": "https://localhost:8080/",
          "height": 312
        },
        "outputId": "f3fedfed-2db7-42b1-e466-178c5b6e4874"
      },
      "source": [
        "plt.scatter(X_train, y_train, color=\"gray\")\n",
        "plt.plot(X_train, model.predict(X_train), color='red')\n",
        "plt.title('Revenue Generated vs. Temperature @Ice Cream Stand')\n",
        "plt.xlabel('Temperature (Celcius)')\n",
        "plt.ylabel('Revenue (dollars)')"
      ],
      "execution_count": 111,
      "outputs": [
        {
          "output_type": "execute_result",
          "data": {
            "text/plain": [
              "Text(0, 0.5, 'Revenue (dollars)')"
            ]
          },
          "metadata": {
            "tags": []
          },
          "execution_count": 111
        },
        {
          "output_type": "display_data",
          "data": {
            "image/png": "[encoded data removed]",
            "text/plain": [
              "<Figure size 432x288 with 1 Axes>"
            ]
          },
          "metadata": {
            "tags": []
          }
        }
      ]
    },
    {
      "cell_type": "markdown",
      "metadata": {
        "id": "nN7aIAe39rb8",
        "colab_type": "text"
      },
      "source": [
        "## Compare with scikit-learn Linear Regression"
      ]
    },
    {
      "cell_type": "code",
      "metadata": {
        "id": "_nksyPl4hSBW",
        "colab_type": "code",
        "colab": {}
      },
      "source": [
        "X_train_lr = X_train.values.reshape(-1,1)"
      ],
      "execution_count": 0,
      "outputs": []
    },
    {
      "cell_type": "code",
      "metadata": {
        "id": "PWxwugzh-EEd",
        "colab_type": "code",
        "colab": {
          "base_uri": "https://localhost:8080/",
          "height": 34
        },
        "outputId": "f388a393-373f-473c-95e9-1d7b70df4866"
      },
      "source": [
        "X_train_lr.shape"
      ],
      "execution_count": 113,
      "outputs": [
        {
          "output_type": "execute_result",
          "data": {
            "text/plain": [
              "(500, 1)"
            ]
          },
          "metadata": {
            "tags": []
          },
          "execution_count": 113
        }
      ]
    },
    {
      "cell_type": "code",
      "metadata": {
        "id": "-WnSjfLx-LpS",
        "colab_type": "code",
        "colab": {}
      },
      "source": [
        "y_train_lr = y_train.values.reshape(-1,1)"
      ],
      "execution_count": 0,
      "outputs": []
    },
    {
      "cell_type": "code",
      "metadata": {
        "id": "pLQqBlPh-Ppy",
        "colab_type": "code",
        "colab": {
          "base_uri": "https://localhost:8080/",
          "height": 34
        },
        "outputId": "8fb1ec6d-0110-4f2f-f7ef-bfce6b26a981"
      },
      "source": [
        "y_train_lr.shape"
      ],
      "execution_count": 115,
      "outputs": [
        {
          "output_type": "execute_result",
          "data": {
            "text/plain": [
              "(500, 1)"
            ]
          },
          "metadata": {
            "tags": []
          },
          "execution_count": 115
        }
      ]
    },
    {
      "cell_type": "code",
      "metadata": {
        "id": "s8-ix3XJ-ZXf",
        "colab_type": "code",
        "colab": {}
      },
      "source": [
        "from sklearn.linear_model import LinearRegression\n",
        "lr_clf = LinearRegression(fit_intercept=True)  #fit_intercept=True to get slope and intercept"
      ],
      "execution_count": 0,
      "outputs": []
    },
    {
      "cell_type": "code",
      "metadata": {
        "id": "8kGxFcCj-ne2",
        "colab_type": "code",
        "colab": {
          "base_uri": "https://localhost:8080/",
          "height": 34
        },
        "outputId": "0f7e4f28-56c6-447a-b02d-3ba5f5ab5099"
      },
      "source": [
        "lr_clf.fit(X_train_lr, y_train_lr)"
      ],
      "execution_count": 117,
      "outputs": [
        {
          "output_type": "execute_result",
          "data": {
            "text/plain": [
              "LinearRegression(copy_X=True, fit_intercept=True, n_jobs=None, normalize=False)"
            ]
          },
          "metadata": {
            "tags": []
          },
          "execution_count": 117
        }
      ]
    },
    {
      "cell_type": "code",
      "metadata": {
        "id": "IGMf2Y-A_E6v",
        "colab_type": "code",
        "colab": {
          "base_uri": "https://localhost:8080/",
          "height": 51
        },
        "outputId": "146ac23b-ca7e-41ca-818c-c9f1bf322835"
      },
      "source": [
        "print('Linear Regression coefficients (slope)', lr_clf.coef_)\n",
        "print('Linear Regression intercept', lr_clf.intercept_)"
      ],
      "execution_count": 118,
      "outputs": [
        {
          "output_type": "stream",
          "text": [
            "Linear Regression coefficients (slope) [[21.44362551]]\n",
            "Linear Regression intercept [44.83126709]\n"
          ],
          "name": "stdout"
        }
      ]
    },
    {
      "cell_type": "code",
      "metadata": {
        "id": "J37JBb-C_qZR",
        "colab_type": "code",
        "colab": {
          "base_uri": "https://localhost:8080/",
          "height": 312
        },
        "outputId": "7e6e9d00-07fd-40d3-f855-c1bafc27cf73"
      },
      "source": [
        "plt.scatter(X_train_lr, y_train_lr, color=\"gray\")\n",
        "plt.plot(X_train_lr, lr_clf.predict(X_train_lr), color='red')\n",
        "plt.title('Revenue Generated vs. Temperature @Ice Cream Stand')\n",
        "plt.xlabel('Temperature (Celcius)')\n",
        "plt.ylabel('Revenue (dollars)')"
      ],
      "execution_count": 120,
      "outputs": [
        {
          "output_type": "execute_result",
          "data": {
            "text/plain": [
              "Text(0, 0.5, 'Revenue (dollars)')"
            ]
          },
          "metadata": {
            "tags": []
          },
          "execution_count": 120
        },
        {
          "output_type": "display_data",
          "data": {
            "image/png": "[encoded data removed]",
            "text/plain": [
              "<Figure size 432x288 with 1 Axes>"
            ]
          },
          "metadata": {
            "tags": []
          }
        }
      ]
    },
    {
      "cell_type": "code",
      "metadata": {
        "id": "lp3ojXfQAQCm",
        "colab_type": "code",
        "colab": {
          "base_uri": "https://localhost:8080/",
          "height": 367
        },
        "outputId": "fa4cf5e6-6518-41ff-8a9e-c2ee727d423f"
      },
      "source": [
        "# Side by side: scikit-learn and Tensorflow linear regression\n",
        "\n",
        "f = plt.figure(figsize=[12,5])\n",
        "Ax1 = plt.subplot(121)\n",
        "Ax1.scatter(X_train_lr, y_train_lr, color=\"gray\")\n",
        "Ax1.plot(X_train_lr, lr_clf.predict(X_train_lr), color='red')\n",
        "Ax1.set_xlabel('Temperature (Celcius)')\n",
        "Ax1.set_ylabel('Revenue (dollars)')\n",
        "Ax1.set_title('Scikit-learn result')\n",
        "Ax2 = plt.subplot(122)\n",
        "Ax2.scatter(X_train, y_train, color=\"gray\")\n",
        "Ax2.plot(X_train, model.predict(X_train), color='red')\n",
        "Ax2.set_xlabel('Temperature (Celcius)')\n",
        "Ax2.set_ylabel('Revenue (dollars)')\n",
        "Ax2.set_title('Tensorflow result ')\n",
        "# Ax2.legend([slope, intercept])"
      ],
      "execution_count": 134,
      "outputs": [
        {
          "output_type": "execute_result",
          "data": {
            "text/plain": [
              "Text(0.5, 1.0, 'Tensorflow result ')"
            ]
          },
          "metadata": {
            "tags": []
          },
          "execution_count": 134
        },
        {
          "output_type": "display_data",
          "data": {
            "image/png": "[encoded data removed]",
            "text/plain": [
              "<Figure size 864x360 with 2 Axes>"
            ]
          },
          "metadata": {
            "tags": []
          }
        }
      ]
    },
    {
      "cell_type": "code",
      "metadata": {
        "id": "iF7y1IiaChAV",
        "colab_type": "code",
        "colab": {
          "base_uri": "https://localhost:8080/",
          "height": 34
        },
        "outputId": "5ded509d-49d2-4883-ccf0-6de6da34d0b3"
      },
      "source": [
        "# set fit_intercept=False, to force the model to go through the origin\n",
        "\n",
        "lr_clf = LinearRegression(fit_intercept=False)\n",
        "lr_clf.fit(X_train_lr, y_train_lr)"
      ],
      "execution_count": 135,
      "outputs": [
        {
          "output_type": "execute_result",
          "data": {
            "text/plain": [
              "LinearRegression(copy_X=True, fit_intercept=False, n_jobs=None, normalize=False)"
            ]
          },
          "metadata": {
            "tags": []
          },
          "execution_count": 135
        }
      ]
    },
    {
      "cell_type": "code",
      "metadata": {
        "id": "paSWPhbfN0CF",
        "colab_type": "code",
        "colab": {
          "base_uri": "https://localhost:8080/",
          "height": 51
        },
        "outputId": "9563fb2f-4b9c-41f7-f60a-2d0c3d822485"
      },
      "source": [
        "print('Linear Regression coefficients (slope)', lr_clf.coef_)\n",
        "print('Linear Regression intercept', lr_clf.intercept_)"
      ],
      "execution_count": 136,
      "outputs": [
        {
          "output_type": "stream",
          "text": [
            "Linear Regression coefficients (slope) [[23.22442357]]\n",
            "Linear Regression intercept 0.0\n"
          ],
          "name": "stdout"
        }
      ]
    },
    {
      "cell_type": "code",
      "metadata": {
        "id": "tW7JQhTIN4h8",
        "colab_type": "code",
        "colab": {
          "base_uri": "https://localhost:8080/",
          "height": 312
        },
        "outputId": "e1902abd-a335-452a-9581-cdb9f0291927"
      },
      "source": [
        "plt.scatter(X_train_lr, y_train_lr, color=\"gray\")\n",
        "plt.plot(X_train_lr, lr_clf.predict(X_train_lr), color='red')\n",
        "plt.title('Revenue Generated vs. Temperature @Ice Cream Stand')\n",
        "plt.xlabel('Temperature (Celcius)')\n",
        "plt.ylabel('Revenue (dollars)')"
      ],
      "execution_count": 137,
      "outputs": [
        {
          "output_type": "execute_result",
          "data": {
            "text/plain": [
              "Text(0, 0.5, 'Revenue (dollars)')"
            ]
          },
          "metadata": {
            "tags": []
          },
          "execution_count": 137
        },
        {
          "output_type": "display_data",
          "data": {
            "image/png": "[encoded data removed]",
            "text/plain": [
              "<Figure size 432x288 with 1 Axes>"
            ]
          },
          "metadata": {
            "tags": []
          }
        }
      ]
    },
    {
      "cell_type": "code",
      "metadata": {
        "id": "I__KNiwON7sy",
        "colab_type": "code",
        "colab": {}
      },
      "source": [
        ""
      ],
      "execution_count": 0,
      "outputs": []
    }
  ]
}