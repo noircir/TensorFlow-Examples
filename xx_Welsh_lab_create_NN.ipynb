{
  "nbformat": 4,
  "nbformat_minor": 0,
  "metadata": {
    "colab": {
      "name": "Create_Neural_Network.ipynb",
      "provenance": [],
      "collapsed_sections": [],
      "include_colab_link": true
    },
    "kernelspec": {
      "name": "python3",
      "display_name": "Python 3"
    }
  },
  "cells": [
    {
      "cell_type": "markdown",
      "metadata": {
        "id": "view-in-github",
        "colab_type": "text"
      },
      "source": [
        "<a href=\"https://colab.research.google.com/github/noircir/TensorFlow-Examples/blob/master/Create_Neural_Network.ipynb\" target=\"_parent\"><img src=\"https://colab.research.google.com/assets/colab-badge.svg\" alt=\"Open In Colab\"/></a>"
      ]
    },
    {
      "cell_type": "code",
      "metadata": {
        "id": "vzwImN2PkHW9",
        "colab_type": "code",
        "colab": {}
      },
      "source": [
        "import numpy as np\n",
        "import matplotlib.pyplot as plt\n",
        "%matplotlib inline"
      ],
      "execution_count": 0,
      "outputs": []
    },
    {
      "cell_type": "code",
      "metadata": {
        "id": "d8sJr5oAkMOH",
        "colab_type": "code",
        "colab": {}
      },
      "source": [
        "class Neural_Network:\n",
        "    def __init__(self):\n",
        "        # Define Hyperparameters\n",
        "        self.inputLayerSize = 2\n",
        "        self.outputLayerSize = 1\n",
        "        self.hiddenLayerSize = 3\n",
        "        \n",
        "        # Weights (parameters)\n",
        "        self.W1 = np.random.randn(self.inputLayerSize, self.hiddenLayerSize)\n",
        "        self.W2 = np.random.randn(self.hiddenLayerSize, self.outputLayerSize)\n",
        "    \n",
        "    def sigmoid(self, z):\n",
        "        return 1/(1 + np.exp(-z))\n",
        "        \n",
        "    def forward(self, X=None):\n",
        "        # Propagate inputs through networks\n",
        "        self.z2 = X.dot(self.W1)\n",
        "        self.a2 = self.sigmoid(self.z2)\n",
        "        self.z3 = np.dot(self.a2, self.W2)\n",
        "        yHat = self.sigmoid(self.z3)\n",
        "        return yHat"
      ],
      "execution_count": 0,
      "outputs": []
    },
    {
      "cell_type": "code",
      "metadata": {
        "id": "3jkotv8bkO8_",
        "colab_type": "code",
        "colab": {
          "base_uri": "https://localhost:8080/",
          "height": 68
        },
        "outputId": "b5c41d8b-bed0-4c06-e2c2-957b6e4b09e6"
      },
      "source": [
        "# The first layer\n",
        "# What is the score on your test based on how many hours you slept\n",
        "# and how many hours you study the night before\n",
        "\n",
        "X = np.array([[3,5],[5,1],[10,2]])\n",
        "X"
      ],
      "execution_count": 4,
      "outputs": [
        {
          "output_type": "execute_result",
          "data": {
            "text/plain": [
              "array([[ 3,  5],\n",
              "       [ 5,  1],\n",
              "       [10,  2]])"
            ]
          },
          "metadata": {
            "tags": []
          },
          "execution_count": 4
        }
      ]
    },
    {
      "cell_type": "code",
      "metadata": {
        "id": "tD8fnt-1kSYy",
        "colab_type": "code",
        "colab": {}
      },
      "source": [
        "NN = Neural_Network()"
      ],
      "execution_count": 0,
      "outputs": []
    },
    {
      "cell_type": "code",
      "metadata": {
        "id": "oTRmy7QhkVet",
        "colab_type": "code",
        "colab": {
          "base_uri": "https://localhost:8080/",
          "height": 68
        },
        "outputId": "4d1df1fd-f018-4e58-dfe5-07ee1825750d"
      },
      "source": [
        "# the ground truth is [75, 82, 93]\n",
        "# the results are terrible because the network is not trained yet \n",
        "# (the weight are random numbers)\n",
        "\n",
        "yHat = NN.forward(X)  \n",
        "yHat"
      ],
      "execution_count": 6,
      "outputs": [
        {
          "output_type": "execute_result",
          "data": {
            "text/plain": [
              "array([[0.60484744],\n",
              "       [0.77401846],\n",
              "       [0.7922305 ]])"
            ]
          },
          "metadata": {
            "tags": []
          },
          "execution_count": 6
        }
      ]
    },
    {
      "cell_type": "code",
      "metadata": {
        "id": "iHccaKMIkXuo",
        "colab_type": "code",
        "colab": {
          "base_uri": "https://localhost:8080/",
          "height": 68
        },
        "outputId": "9ea0665d-fa9e-4744-cf59-083eb8138295"
      },
      "source": [
        "# Ground truth\n",
        "y = np.array([[0.75],[0.82],[0.93]])\n",
        "y"
      ],
      "execution_count": 7,
      "outputs": [
        {
          "output_type": "execute_result",
          "data": {
            "text/plain": [
              "array([[0.75],\n",
              "       [0.82],\n",
              "       [0.93]])"
            ]
          },
          "metadata": {
            "tags": []
          },
          "execution_count": 7
        }
      ]
    },
    {
      "cell_type": "code",
      "metadata": {
        "id": "X84ypE8OmfKo",
        "colab_type": "code",
        "colab": {
          "base_uri": "https://localhost:8080/",
          "height": 34
        },
        "outputId": "03c7c5fb-e073-4fa4-b762-70c6de968eda"
      },
      "source": [
        "y.shape"
      ],
      "execution_count": 8,
      "outputs": [
        {
          "output_type": "execute_result",
          "data": {
            "text/plain": [
              "(3, 1)"
            ]
          },
          "metadata": {
            "tags": []
          },
          "execution_count": 8
        }
      ]
    },
    {
      "cell_type": "markdown",
      "metadata": {
        "id": "EFsVpbHyo7bE",
        "colab_type": "text"
      },
      "source": [
        "## Curse of Dimensionality"
      ]
    },
    {
      "cell_type": "code",
      "metadata": {
        "id": "FlBKZAsNlB_l",
        "colab_type": "code",
        "colab": {}
      },
      "source": [
        "# Let's measure time required to compute 1000 weights to find the best cost,\n",
        "# just for one weight W[0,0]. \n",
        "import time\n",
        "\n",
        "weightsToTry = np.linspace(-10,10,1000)\n",
        "costs = np.zeros(1000)\n",
        "startTime = time.clock()\n",
        "for i in range(1000):\n",
        "  # changing only the first weight W1[0,0]\n",
        "  NN.W1[0,0] = weightsToTry[i]\n",
        "  yHat = NN.forward(X)\n",
        "  costs[i] = 0.5 * sum((y-yHat)**2)\n",
        "\n",
        "endTime = time.clock()"
      ],
      "execution_count": 0,
      "outputs": []
    },
    {
      "cell_type": "code",
      "metadata": {
        "id": "uHC0wdbZmR2o",
        "colab_type": "code",
        "colab": {
          "base_uri": "https://localhost:8080/",
          "height": 34
        },
        "outputId": "c5c87943-9071-4c86-84c1-6e4f6aa6f7af"
      },
      "source": [
        "timeElapsed = endTime - startTime\n",
        "timeElapsed"
      ],
      "execution_count": 10,
      "outputs": [
        {
          "output_type": "execute_result",
          "data": {
            "text/plain": [
              "0.0450839999999999"
            ]
          },
          "metadata": {
            "tags": []
          },
          "execution_count": 10
        }
      ]
    },
    {
      "cell_type": "code",
      "metadata": {
        "id": "Jy16ZARBnQQ7",
        "colab_type": "code",
        "colab": {
          "base_uri": "https://localhost:8080/",
          "height": 296
        },
        "outputId": "9e087cb9-4644-44f9-cbdb-2ed80d32dc94"
      },
      "source": [
        "# 0.032 seconds just to run the function with 1000 different values of 1 weight\n",
        "\n",
        "plt.plot(weightsToTry, costs)\n",
        "plt.grid(1)\n",
        "plt.ylabel('Cost')\n",
        "plt.xlabel('Weight')"
      ],
      "execution_count": 11,
      "outputs": [
        {
          "output_type": "execute_result",
          "data": {
            "text/plain": [
              "Text(0.5, 0, 'Weight')"
            ]
          },
          "metadata": {
            "tags": []
          },
          "execution_count": 11
        },
        {
          "output_type": "display_data",
          "data": {
            "image/png": "[encoded data removed]",
            "text/plain": [
              "<Figure size 432x288 with 1 Axes>"
            ]
          },
          "metadata": {
            "tags": []
          }
        }
      ]
    },
    {
      "cell_type": "code",
      "metadata": {
        "id": "hhQATSr5nuAF",
        "colab_type": "code",
        "colab": {}
      },
      "source": [
        "# Now for 2 weights. \n",
        "# Computation time increases to 14.8 seconds! \n",
        "\n",
        "weightsToTry = np.linspace(-5,5,1000)\n",
        "costs = np.zeros([1000, 1000])\n",
        "startTime = time.clock()\n",
        "for i in range(1000):\n",
        "  for j in range(1000):\n",
        "    NN.W1[0,0] = weightsToTry[i]\n",
        "    NN.W1[0,1] = weightsToTry[i]\n",
        "    yHat = NN.forward(X)\n",
        "    costs[i] = 0.5 * sum((y-yHat)**2) # an array of 1000 items\n",
        "\n",
        "endTime = time.clock()"
      ],
      "execution_count": 0,
      "outputs": []
    },
    {
      "cell_type": "markdown",
      "metadata": {
        "id": "uD1Uo2QbtJSH",
        "colab_type": "text"
      },
      "source": [
        "### 25 seconds to try 1000 samples of 2 weights, => 1,000,000 combinations.\n",
        "### Adding a third weight will require 1 billion combinations. \n",
        "### => Exponential increase."
      ]
    },
    {
      "cell_type": "code",
      "metadata": {
        "id": "lw8VDxn4ph3w",
        "colab_type": "code",
        "colab": {
          "base_uri": "https://localhost:8080/",
          "height": 34
        },
        "outputId": "ad867b88-8c4b-4c49-88f1-7ca7de53f1ce"
      },
      "source": [
        "timeElapsed = endTime - startTime\n",
        "timeElapsed"
      ],
      "execution_count": 13,
      "outputs": [
        {
          "output_type": "execute_result",
          "data": {
            "text/plain": [
              "24.877457999999997"
            ]
          },
          "metadata": {
            "tags": []
          },
          "execution_count": 13
        }
      ]
    },
    {
      "cell_type": "code",
      "metadata": {
        "id": "i2xIs5OUppGl",
        "colab_type": "code",
        "colab": {
          "base_uri": "https://localhost:8080/",
          "height": 514
        },
        "outputId": "39fc8b18-ca96-4999-9443-4f28f6464ff6"
      },
      "source": [
        "plt.figure(figsize=(10,8))\n",
        "plt.plot(weightsToTry, costs)\n",
        "# plt.grid(1)\n",
        "plt.ylabel('Cost')\n",
        "plt.xlabel('Weight')"
      ],
      "execution_count": 14,
      "outputs": [
        {
          "output_type": "execute_result",
          "data": {
            "text/plain": [
              "Text(0.5, 0, 'Weight')"
            ]
          },
          "metadata": {
            "tags": []
          },
          "execution_count": 14
        },
        {
          "output_type": "display_data",
          "data": {
            "image/png": "[encoded data removed]",
            "text/plain": [
              "<Figure size 720x576 with 1 Axes>"
            ]
          },
          "metadata": {
            "tags": []
          }
        }
      ]
    },
    {
      "cell_type": "code",
      "metadata": {
        "id": "3CGiopZQp1ZG",
        "colab_type": "code",
        "colab": {
          "base_uri": "https://localhost:8080/",
          "height": 34
        },
        "outputId": "bbd05ae4-3221-4f63-f26d-795c6e8a0189"
      },
      "source": [
        "# time needed to search through all 9 weights (of this simple neural network), in years:\n",
        "# (assuming 0.04 seconds per 1000 of 1 weight)\n",
        "0.04*(1000**(9-1))/(3600*24*365)\n",
        "\n",
        "# Longer than an universe has been here"
      ],
      "execution_count": 14,
      "outputs": [
        {
          "output_type": "execute_result",
          "data": {
            "text/plain": [
              "1268391679350583.5"
            ]
          },
          "metadata": {
            "tags": []
          },
          "execution_count": 14
        }
      ]
    },
    {
      "cell_type": "code",
      "metadata": {
        "id": "Me5_EKK4uC6b",
        "colab_type": "code",
        "colab": {}
      },
      "source": [
        ""
      ],
      "execution_count": 0,
      "outputs": []
    },
    {
      "cell_type": "markdown",
      "metadata": {
        "id": "O1wW-jFszIey",
        "colab_type": "text"
      },
      "source": [
        "## Gradient descent"
      ]
    },
    {
      "cell_type": "code",
      "metadata": {
        "id": "Q5FDbtGRuMFO",
        "colab_type": "code",
        "colab": {}
      },
      "source": [
        "# We have 5 equations, but we can collapse them into one, for cost:\n",
        "\n",
        "# We want to know which way is downhill, that is, \n",
        "# what is the rate of change for J w.r.t. to W? Also known as a derivative.\n",
        "# Since we are considering one weight at a time, it is a partial derivative. "
      ],
      "execution_count": 0,
      "outputs": []
    },
    {
      "cell_type": "markdown",
      "metadata": {
        "id": "8_X1rnFyHUf2",
        "colab_type": "text"
      },
      "source": [
        "### Depending on how we use our data, it may not matter if our cost function convex or not. (Has one minimum or not)"
      ]
    },
    {
      "cell_type": "code",
      "metadata": {
        "id": "r8YT2RylHhFt",
        "colab_type": "code",
        "colab": {}
      },
      "source": [
        "# If we use our data one example at a time, instead of using them all at once, \n",
        "# sometimes it won't matter if the function os convex or not. (Stochastic gradient descent)\n",
        "\n",
        "# Batch style: when we use all our examples at once: sum(dJ/dWi)\n",
        "\n",
        "# Our weights are separated into two matrices. We will separate our dJ/dW computation\n",
        "# in the same way:"
      ],
      "execution_count": 0,
      "outputs": []
    },
    {
      "cell_type": "code",
      "metadata": {
        "id": "THLhuctAHq7s",
        "colab_type": "code",
        "colab": {}
      },
      "source": [
        "# The sizes of matrix derivatives will be the same as the matrices sizes:"
      ],
      "execution_count": 0,
      "outputs": []
    },
    {
      "cell_type": "code",
      "metadata": {
        "id": "6WQKL5YdHvfm",
        "colab_type": "code",
        "colab": {}
      },
      "source": [
        "def sigmoid(z):\n",
        "    return 1/(1 + np.exp(-z))\n",
        "\n",
        "def sigmoidPrime(z):\n",
        "    # Derivative of sigmoid function\n",
        "    return np.exp(-z)/((1+np.exp(-z))**2)"
      ],
      "execution_count": 0,
      "outputs": []
    },
    {
      "cell_type": "code",
      "metadata": {
        "id": "8w2jvgaBH37o",
        "colab_type": "code",
        "colab": {
          "base_uri": "https://localhost:8080/",
          "height": 500
        },
        "outputId": "36efc9ab-877b-4b2a-844e-02aea398d189"
      },
      "source": [
        "# the derivative should be the largest where the sigmoid function is the steepest\n",
        "\n",
        "testValues = np.arange(-10,10,0.1)\n",
        "plt.figure(figsize=(10,8))\n",
        "plt.plot(testValues, sigmoid(testValues), linewidth=2, label='sigmoid')\n",
        "plt.plot(testValues, sigmoidPrime(testValues), linewidth=2, label='sigmoidPrime')\n",
        "plt.grid(1)\n",
        "plt.legend()"
      ],
      "execution_count": 19,
      "outputs": [
        {
          "output_type": "execute_result",
          "data": {
            "text/plain": [
              "<matplotlib.legend.Legend at 0x7f688b35ee48>"
            ]
          },
          "metadata": {
            "tags": []
          },
          "execution_count": 19
        },
        {
          "output_type": "display_data",
          "data": {
            "image/png": "[encoded data removed]",
            "text/plain": [
              "<Figure size 720x576 with 1 Axes>"
            ]
          },
          "metadata": {
            "tags": []
          }
        }
      ]
    },
    {
      "cell_type": "code",
      "metadata": {
        "id": "Gt_UxA-5IBYQ",
        "colab_type": "code",
        "colab": {
          "base_uri": "https://localhost:8080/",
          "height": 334
        },
        "outputId": "41c49cc2-dad1-4024-91e5-fb4c6906ac58"
      },
      "source": [
        "# Or:\n",
        "\n",
        "Fig = plt.figure(figsize=(12,5))\n",
        "ax1 = Fig.add_subplot(121)\n",
        "ax1.plot(testValues, sigmoid(testValues), linewidth=2)\n",
        "ax1.set_xlabel('Values')\n",
        "ax1.set_ylabel('Sigmoid')\n",
        "plt.grid(1)\n",
        "\n",
        "ax2 = Fig.add_subplot(122)\n",
        "ax2.plot(testValues, sigmoidPrime(testValues), linewidth=2)\n",
        "ax2.set_xlabel('Values')\n",
        "ax2.set_ylabel('SigmoidPrime')\n",
        "plt.grid(1)"
      ],
      "execution_count": 20,
      "outputs": [
        {
          "output_type": "display_data",
          "data": {
            "image/png": "[encoded data removed]",
            "text/plain": [
              "<Figure size 864x360 with 2 Axes>"
            ]
          },
          "metadata": {
            "tags": []
          }
        }
      ]
    },
    {
      "cell_type": "code",
      "metadata": {
        "id": "hQqnNRpqIHU7",
        "colab_type": "code",
        "colab": {}
      },
      "source": [
        ""
      ],
      "execution_count": 0,
      "outputs": []
    }
  ]
}