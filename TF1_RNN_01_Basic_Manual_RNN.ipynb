{
  "nbformat": 4,
  "nbformat_minor": 0,
  "metadata": {
    "kernelspec": {
      "display_name": "Python 3",
      "language": "python",
      "name": "python3"
    },
    "language_info": {
      "codemirror_mode": {
        "name": "ipython",
        "version": 3
      },
      "file_extension": ".py",
      "mimetype": "text/x-python",
      "name": "python",
      "nbconvert_exporter": "python",
      "pygments_lexer": "ipython3",
      "version": "3.5.4"
    },
    "colab": {
      "name": "TF1_RNN_01_Basic_Manual_RNN.ipynb",
      "provenance": [],
      "include_colab_link": true
    }
  },
  "cells": [
    {
      "cell_type": "markdown",
      "metadata": {
        "id": "view-in-github",
        "colab_type": "text"
      },
      "source": [
        "<a href=\"https://colab.research.google.com/github/noircir/TensorFlow-Examples/blob/master/TF1_RNN_01_Basic_Manual_RNN.ipynb\" target=\"_parent\"><img src=\"https://colab.research.google.com/assets/colab-badge.svg\" alt=\"Open In Colab\"/></a>"
      ]
    },
    {
      "cell_type": "markdown",
      "metadata": {
        "id": "v_UjWeWVvdkh",
        "colab_type": "text"
      },
      "source": [
        "# Basic Manual RNN"
      ]
    },
    {
      "cell_type": "code",
      "metadata": {
        "id": "WmBucDOfvdkm",
        "colab_type": "code",
        "colab": {}
      },
      "source": [
        "import numpy as np\n",
        "import tensorflow as tf\n",
        "import matplotlib.pyplot as plt\n",
        "%matplotlib inline"
      ],
      "execution_count": 0,
      "outputs": []
    },
    {
      "cell_type": "markdown",
      "metadata": {
        "id": "_BBALpo0vdku",
        "colab_type": "text"
      },
      "source": [
        "### Constants"
      ]
    },
    {
      "cell_type": "code",
      "metadata": {
        "id": "8k7hsiI2vdkv",
        "colab_type": "code",
        "colab": {}
      },
      "source": [
        "# Number of inputs for each example\n",
        "# Two rows (observations), two phrases.\n",
        "num_inputs = 2\n",
        "\n",
        "# Number of neurons in first layer\n",
        "num_neurons = 3"
      ],
      "execution_count": 0,
      "outputs": []
    },
    {
      "cell_type": "markdown",
      "metadata": {
        "id": "Q-Hv_6Cfvdk0",
        "colab_type": "text"
      },
      "source": [
        "### Placeholders"
      ]
    },
    {
      "cell_type": "code",
      "metadata": {
        "id": "maTeOQmpvdk2",
        "colab_type": "code",
        "colab": {}
      },
      "source": [
        "# We now need two Xs! One for each timestamp (t=0 and t=1)\n",
        "x0 = tf.placeholder(tf.float32,[None,num_inputs])\n",
        "x1 = tf.placeholder(tf.float32,[None,num_inputs])"
      ],
      "execution_count": 0,
      "outputs": []
    },
    {
      "cell_type": "markdown",
      "metadata": {
        "id": "OqN8c_zcvdk4",
        "colab_type": "text"
      },
      "source": [
        "### Variables"
      ]
    },
    {
      "cell_type": "code",
      "metadata": {
        "id": "avhvTa0pvdk5",
        "colab_type": "code",
        "colab": {}
      },
      "source": [
        "# We'll also need a Weights variable for each x\n",
        "# Notice the shape dimensions on both!\n",
        "Wx = tf.Variable(tf.random_normal(shape=[num_inputs,num_neurons]))\n",
        "Wy = tf.Variable(tf.random_normal(shape=[num_neurons,num_neurons]))"
      ],
      "execution_count": 0,
      "outputs": []
    },
    {
      "cell_type": "code",
      "metadata": {
        "id": "IzemWiflvdk8",
        "colab_type": "code",
        "colab": {}
      },
      "source": [
        "b = tf.Variable(tf.zeros([1,num_neurons]))"
      ],
      "execution_count": 0,
      "outputs": []
    },
    {
      "cell_type": "markdown",
      "metadata": {
        "id": "FSioXyVAvdlA",
        "colab_type": "text"
      },
      "source": [
        "### Graphs"
      ]
    },
    {
      "cell_type": "code",
      "metadata": {
        "id": "j60Tk-vNvdlB",
        "colab_type": "code",
        "colab": {}
      },
      "source": [
        "# First Activation\n",
        "# Unrolled NN\n",
        "y0 = tf.tanh(tf.matmul(x0,Wx) + b)\n",
        "y1 = tf.tanh(tf.matmul(y0,Wy) + tf.matmul(x1,Wx) + b)"
      ],
      "execution_count": 0,
      "outputs": []
    },
    {
      "cell_type": "markdown",
      "metadata": {
        "id": "LXYizOOBvdlF",
        "colab_type": "text"
      },
      "source": [
        "#### Intialize Variables"
      ]
    },
    {
      "cell_type": "code",
      "metadata": {
        "id": "42Zqs0UCvdlI",
        "colab_type": "code",
        "colab": {}
      },
      "source": [
        "init = tf.global_variables_initializer()"
      ],
      "execution_count": 0,
      "outputs": []
    },
    {
      "cell_type": "markdown",
      "metadata": {
        "id": "hH0nl0XVvdlN",
        "colab_type": "text"
      },
      "source": [
        "### Create Data"
      ]
    },
    {
      "cell_type": "code",
      "metadata": {
        "id": "n07Nd_B0vdlP",
        "colab_type": "code",
        "colab": {}
      },
      "source": [
        "# BATCH 0:       example1 , example2, example 3\n",
        "x0_batch = np.array([ [0,1],  [2,3],    [4,5] ]) # DATA AT TIMESTAMP = 0\n",
        "\n",
        "# BATCH 0:          example1 ,   example2,   example 3\n",
        "x1_batch = np.array([[100,101], [102,103],  [104,105]]) # DATA AT TIMESTAMP = 1"
      ],
      "execution_count": 0,
      "outputs": []
    },
    {
      "cell_type": "markdown",
      "metadata": {
        "id": "K2Ok8VgavdlS",
        "colab_type": "text"
      },
      "source": [
        "### Run Session"
      ]
    },
    {
      "cell_type": "code",
      "metadata": {
        "id": "7cC0mlDavdlT",
        "colab_type": "code",
        "colab": {}
      },
      "source": [
        "with tf.Session() as sess:\n",
        "    \n",
        "    sess.run(init)\n",
        "    \n",
        "    y0_output_vals , y1_output_vals  = sess.run([y0,y1],feed_dict={x0:x0_batch,x1:x1_batch})"
      ],
      "execution_count": 0,
      "outputs": []
    },
    {
      "cell_type": "code",
      "metadata": {
        "id": "HBgavlvLvdlV",
        "colab_type": "code",
        "outputId": "78353fdb-23ed-4ec2-e0e8-d640fd67168e",
        "colab": {
          "base_uri": "https://localhost:8080/",
          "height": 68
        }
      },
      "source": [
        "# The output of values at t=0\n",
        "y0_output_vals"
      ],
      "execution_count": 10,
      "outputs": [
        {
          "output_type": "execute_result",
          "data": {
            "text/plain": [
              "array([[ 0.19559373,  0.18334807,  0.14230394],\n",
              "       [ 0.97258216, -0.99999005,  0.90795696],\n",
              "       [ 0.99942577, -1.        ,  0.9938202 ]], dtype=float32)"
            ]
          },
          "metadata": {
            "tags": []
          },
          "execution_count": 10
        }
      ]
    },
    {
      "cell_type": "code",
      "metadata": {
        "id": "NLPeMAB0vdla",
        "colab_type": "code",
        "outputId": "fcedb7ce-f5b3-4e0d-f6e8-cda9d87a0bc5",
        "colab": {
          "base_uri": "https://localhost:8080/",
          "height": 68
        }
      },
      "source": [
        "# Output at t=1\n",
        "y1_output_vals"
      ],
      "execution_count": 11,
      "outputs": [
        {
          "output_type": "execute_result",
          "data": {
            "text/plain": [
              "array([[ 1., -1.,  1.],\n",
              "       [ 1., -1.,  1.],\n",
              "       [ 1., -1.,  1.]], dtype=float32)"
            ]
          },
          "metadata": {
            "tags": []
          },
          "execution_count": 11
        }
      ]
    },
    {
      "cell_type": "code",
      "metadata": {
        "id": "EfFvkeDd9g0M",
        "colab_type": "code",
        "colab": {}
      },
      "source": [
        ""
      ],
      "execution_count": 0,
      "outputs": []
    }
  ]
}