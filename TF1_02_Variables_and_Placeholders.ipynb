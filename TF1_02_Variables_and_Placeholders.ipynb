{
  "nbformat": 4,
  "nbformat_minor": 0,
  "metadata": {
    "colab": {
      "name": "TF1_02_Variables_and_Placeholders.ipynb",
      "provenance": [],
      "collapsed_sections": [],
      "include_colab_link": true
    },
    "kernelspec": {
      "name": "python3",
      "display_name": "Python 3"
    }
  },
  "cells": [
    {
      "cell_type": "markdown",
      "metadata": {
        "id": "view-in-github",
        "colab_type": "text"
      },
      "source": [
        "<a href=\"https://colab.research.google.com/github/noircir/TensorFlow-Examples/blob/master/TF1_02_Variables_and_Placeholders.ipynb\" target=\"_parent\"><img src=\"https://colab.research.google.com/assets/colab-badge.svg\" alt=\"Open In Colab\"/></a>"
      ]
    },
    {
      "cell_type": "code",
      "metadata": {
        "id": "n4IOdrPKTC9p",
        "colab_type": "code",
        "colab": {
          "base_uri": "https://localhost:8080/",
          "height": 63
        },
        "outputId": "79623618-f628-4ecf-fdfc-cbed443aa088"
      },
      "source": [
        "import tensorflow as tf"
      ],
      "execution_count": 1,
      "outputs": [
        {
          "output_type": "display_data",
          "data": {
            "text/html": [
              "<p style=\"color: red;\">\n",
              "The default version of TensorFlow in Colab will soon switch to TensorFlow 2.x.<br>\n",
              "We recommend you <a href=\"https://www.tensorflow.org/guide/migrate\" target=\"_blank\">upgrade</a> now \n",
              "or ensure your notebook will continue to use TensorFlow 1.x via the <code>%tensorflow_version 1.x</code> magic:\n",
              "<a href=\"https://colab.research.google.com/notebooks/tensorflow_version.ipynb\" target=\"_blank\">more info</a>.</p>\n"
            ],
            "text/plain": [
              "<IPython.core.display.HTML object>"
            ]
          },
          "metadata": {
            "tags": []
          }
        }
      ]
    },
    {
      "cell_type": "code",
      "metadata": {
        "id": "OQgNSUBiTk2n",
        "colab_type": "code",
        "colab": {}
      },
      "source": [
        "sess = tf.InteractiveSession()"
      ],
      "execution_count": 0,
      "outputs": []
    },
    {
      "cell_type": "code",
      "metadata": {
        "id": "DG7x3Lh_ToH3",
        "colab_type": "code",
        "colab": {}
      },
      "source": [
        "# create a tensor\n",
        "my_tensor =   tf.random_uniform((4,4),minval=0,maxval=1)"
      ],
      "execution_count": 0,
      "outputs": []
    },
    {
      "cell_type": "code",
      "metadata": {
        "id": "C6RYqgSET0db",
        "colab_type": "code",
        "colab": {}
      },
      "source": [
        "# assign that tensor to a variable\n",
        "my_var = tf.Variable(initial_value=my_tensor)"
      ],
      "execution_count": 0,
      "outputs": []
    },
    {
      "cell_type": "code",
      "metadata": {
        "id": "2-rSb6gSUGS-",
        "colab_type": "code",
        "colab": {}
      },
      "source": [
        "# initialize all variables\n",
        "init = tf.global_variables_initializer()"
      ],
      "execution_count": 0,
      "outputs": []
    },
    {
      "cell_type": "code",
      "metadata": {
        "id": "CfXdDgtTWEGl",
        "colab_type": "code",
        "colab": {}
      },
      "source": [
        "# attach them to session\n",
        "sess.run(init)"
      ],
      "execution_count": 0,
      "outputs": []
    },
    {
      "cell_type": "code",
      "metadata": {
        "id": "Mhe0FManWbTo",
        "colab_type": "code",
        "colab": {
          "base_uri": "https://localhost:8080/",
          "height": 85
        },
        "outputId": "0df7d501-00e5-4f56-9e4b-458f40d8a8b5"
      },
      "source": [
        "# inside the session, have a look at the variable (the tensor)  \n",
        "sess.run(my_var)\n",
        "# my_var.eval()"
      ],
      "execution_count": 10,
      "outputs": [
        {
          "output_type": "execute_result",
          "data": {
            "text/plain": [
              "array([[0.54844666, 0.6824285 , 0.702659  , 0.77394223],\n",
              "       [0.7369201 , 0.5697075 , 0.08773041, 0.3068595 ],\n",
              "       [0.46142685, 0.2150054 , 0.04361403, 0.28805423],\n",
              "       [0.7263131 , 0.9337894 , 0.3040856 , 0.55906844]], dtype=float32)"
            ]
          },
          "metadata": {
            "tags": []
          },
          "execution_count": 10
        }
      ]
    },
    {
      "cell_type": "code",
      "metadata": {
        "id": "IsqmU_HqWrz6",
        "colab_type": "code",
        "colab": {}
      },
      "source": [
        "ph = tf.placeholder(tf.float32, shape=(4,4))"
      ],
      "execution_count": 0,
      "outputs": []
    }
  ]
}